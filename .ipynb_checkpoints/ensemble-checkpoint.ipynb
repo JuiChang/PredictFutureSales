{
 "cells": [
  {
   "cell_type": "markdown",
   "metadata": {},
   "source": [
    "#### Averaging ensemble the two predictions(the two submission dataframes)"
   ]
  },
  {
   "cell_type": "code",
   "execution_count": 2,
   "metadata": {},
   "outputs": [],
   "source": [
    "import pandas as pd"
   ]
  },
  {
   "cell_type": "code",
   "execution_count": null,
   "metadata": {},
   "outputs": [],
   "source": [
    "subm_rm_date_bla_cnt = pd.read_csv('./xgb_submissionrmdate_bla_cnt.csv')\n",
    "subm_sub_corr_41 = pd.read_csv('./xgb_sub_corr41.csv')"
   ]
  },
  {
   "cell_type": "code",
   "execution_count": null,
   "metadata": {},
   "outputs": [],
   "source": [
    "submission_first_ensemble = pd.concat([subm_rm_date_bla_cnt, subm_sub_corr_41]).groupby(level=0).mean()\n"
   ]
  },
  {
   "cell_type": "code",
   "execution_count": 5,
   "metadata": {},
   "outputs": [],
   "source": [
    "submission_first_ensemble.to_csv('submission_first_ensemble.csv', index=False)"
   ]
  },
  {
   "cell_type": "markdown",
   "metadata": {},
   "source": [
    "#### The three corr with seed 40 41 42"
   ]
  },
  {
   "cell_type": "code",
   "execution_count": 14,
   "metadata": {},
   "outputs": [],
   "source": [
    "subm_sub_corr = pd.read_csv('./xgb_sub_corr.csv')\n",
    "subm_sub_corr_41 = pd.read_csv('./xgb_sub_corr41.csv')\n",
    "subm_sub_corr_40 = pd.read_csv('./xgb_sub_corr40.csv')"
   ]
  },
  {
   "cell_type": "code",
   "execution_count": 16,
   "metadata": {},
   "outputs": [],
   "source": [
    "submission_ensemble_threeCorr = pd.concat([subm_sub_corr, subm_sub_corr_41, subm_sub_corr_40]).groupby(level=0).mean()\n"
   ]
  },
  {
   "cell_type": "code",
   "execution_count": 17,
   "metadata": {},
   "outputs": [],
   "source": [
    "submission_ensemble_threeCorr.to_csv('submission_ensemble_threeCorr.csv', index=False)"
   ]
  }
 ],
 "metadata": {
  "kernelspec": {
   "display_name": "py_36_env",
   "language": "python",
   "name": "py_36_env"
  },
  "language_info": {
   "codemirror_mode": {
    "name": "ipython",
    "version": 3
   },
   "file_extension": ".py",
   "mimetype": "text/x-python",
   "name": "python",
   "nbconvert_exporter": "python",
   "pygments_lexer": "ipython3",
   "version": "3.6.4"
  }
 },
 "nbformat": 4,
 "nbformat_minor": 2
}
