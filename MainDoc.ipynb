{
 "cells": [
  {
   "cell_type": "markdown",
   "metadata": {},
   "source": [
    "#### Content of this ipy notebook:\n",
    "* Part 1 - Data Preprocessing and Feature Engineering\n",
    "* Part 2 - Models and Predictions\n",
    "    * 2.1 LGBM *(refer: lgbm.ipynb)*\n",
    "    * 2.2 Back to Xgboost\n",
    "    * 2.3 Xgboost - feature selection with correlation\n",
    "    * 2.4 Ensembling *(refer: ensemble.ipynb)*\n",
    "    * 2.5 其他嘗試 *(refer: lag_max3_withcorr41.ipynb & ensemble.ipynb)*\n",
    "* 心得"
   ]
  },
  {
   "cell_type": "markdown",
   "metadata": {
    "_uuid": "f03379ee467570732ebb2b3d20062fea0584d57d"
   },
   "source": [
    "# Part 1 - Data Preprocessing and Feature Engineering"
   ]
  },
  {
   "cell_type": "code",
   "execution_count": 1,
   "metadata": {
    "_cell_guid": "b1076dfc-b9ad-4769-8c92-a6c4dae69d19",
    "_uuid": "8f2839f25d086af736a60e9eeb907d3b93b6e0e5"
   },
   "outputs": [
    {
     "data": {
      "text/plain": [
       "sys.version_info(major=3, minor=6, micro=4, releaselevel='final', serial=0)"
      ]
     },
     "execution_count": 1,
     "metadata": {},
     "output_type": "execute_result"
    }
   ],
   "source": [
    "import numpy as np\n",
    "import pandas as pd\n",
    "pd.set_option('display.max_rows', 500)\n",
    "pd.set_option('display.max_columns', 100)\n",
    "\n",
    "from itertools import product\n",
    "from sklearn.preprocessing import LabelEncoder\n",
    "\n",
    "import seaborn as sns\n",
    "import matplotlib.pyplot as plt\n",
    "%matplotlib inline\n",
    "\n",
    "from xgboost import XGBRegressor\n",
    "from xgboost import plot_importance\n",
    "\n",
    "def plot_features(booster, figsize):    \n",
    "    fig, ax = plt.subplots(1,1,figsize=figsize)\n",
    "    return plot_importance(booster=booster, ax=ax)\n",
    "\n",
    "import time\n",
    "import sys\n",
    "import gc\n",
    "import pickle\n",
    "sys.version_info"
   ]
  },
  {
   "cell_type": "code",
   "execution_count": 2,
   "metadata": {
    "_uuid": "f0a1c729d4fb3d6609f9dfb163ebe92fa9dc654c",
    "collapsed": true
   },
   "outputs": [],
   "source": [
    "items = pd.read_csv('./input/items.csv')\n",
    "shops = pd.read_csv('./input/shops.csv')\n",
    "cats = pd.read_csv('./input/item_categories.csv')\n",
    "train = pd.read_csv('./input/sales_train.csv')\n",
    "# set index to ID to avoid droping it later\n",
    "test  = pd.read_csv('./input/test.csv').set_index('ID')"
   ]
  },
  {
   "cell_type": "code",
   "execution_count": 4,
   "metadata": {},
   "outputs": [
    {
     "data": {
      "text/html": [
       "<div>\n",
       "<style scoped>\n",
       "    .dataframe tbody tr th:only-of-type {\n",
       "        vertical-align: middle;\n",
       "    }\n",
       "\n",
       "    .dataframe tbody tr th {\n",
       "        vertical-align: top;\n",
       "    }\n",
       "\n",
       "    .dataframe thead th {\n",
       "        text-align: right;\n",
       "    }\n",
       "</style>\n",
       "<table border=\"1\" class=\"dataframe\">\n",
       "  <thead>\n",
       "    <tr style=\"text-align: right;\">\n",
       "      <th></th>\n",
       "      <th>date</th>\n",
       "      <th>date_block_num</th>\n",
       "      <th>shop_id</th>\n",
       "      <th>item_id</th>\n",
       "      <th>item_price</th>\n",
       "      <th>item_cnt_day</th>\n",
       "    </tr>\n",
       "  </thead>\n",
       "  <tbody>\n",
       "    <tr>\n",
       "      <th>0</th>\n",
       "      <td>02.01.2013</td>\n",
       "      <td>0</td>\n",
       "      <td>59</td>\n",
       "      <td>22154</td>\n",
       "      <td>999.0</td>\n",
       "      <td>1.0</td>\n",
       "    </tr>\n",
       "    <tr>\n",
       "      <th>1</th>\n",
       "      <td>03.01.2013</td>\n",
       "      <td>0</td>\n",
       "      <td>25</td>\n",
       "      <td>2552</td>\n",
       "      <td>899.0</td>\n",
       "      <td>1.0</td>\n",
       "    </tr>\n",
       "    <tr>\n",
       "      <th>2</th>\n",
       "      <td>05.01.2013</td>\n",
       "      <td>0</td>\n",
       "      <td>25</td>\n",
       "      <td>2552</td>\n",
       "      <td>899.0</td>\n",
       "      <td>-1.0</td>\n",
       "    </tr>\n",
       "  </tbody>\n",
       "</table>\n",
       "</div>"
      ],
      "text/plain": [
       "         date  date_block_num  shop_id  item_id  item_price  item_cnt_day\n",
       "0  02.01.2013               0       59    22154       999.0           1.0\n",
       "1  03.01.2013               0       25     2552       899.0           1.0\n",
       "2  05.01.2013               0       25     2552       899.0          -1.0"
      ]
     },
     "execution_count": 4,
     "metadata": {},
     "output_type": "execute_result"
    }
   ],
   "source": [
    "train.head(3)"
   ]
  },
  {
   "cell_type": "markdown",
   "metadata": {},
   "source": [
    "對各dataframe(包括train、test、items、shops、cats)，印出其各column之相異值個數。"
   ]
  },
  {
   "cell_type": "code",
   "execution_count": 15,
   "metadata": {},
   "outputs": [
    {
     "name": "stdout",
     "output_type": "stream",
     "text": [
      "train:\n",
      "date               1034\n",
      "date_block_num       34\n",
      "shop_id              57\n",
      "item_id           21806\n",
      "item_price        19990\n",
      "item_cnt_day        197\n",
      "dtype: int64\n",
      "\n",
      "test:\n",
      "shop_id      42\n",
      "item_id    5100\n",
      "dtype: int64\n",
      "\n",
      "items:\n",
      "item_name           22170\n",
      "item_id             22170\n",
      "item_category_id       84\n",
      "dtype: int64\n",
      "\n",
      "shops:\n",
      "shop_name    60\n",
      "shop_id      60\n",
      "dtype: int64\n",
      "\n",
      "cats:\n",
      "item_category_name    84\n",
      "item_category_id      84\n",
      "dtype: int64\n"
     ]
    }
   ],
   "source": [
    "# count of distinct elements in each column of each dataframe\n",
    "print(\"train:\")\n",
    "print(train.nunique())\n",
    "print(\"\\ntest:\")\n",
    "print(test.nunique())\n",
    "print(\"\\nitems:\")\n",
    "print(items.nunique())\n",
    "print(\"\\nshops:\")\n",
    "print(shops.nunique())\n",
    "print(\"\\ncats:\")\n",
    "print(cats.nunique())"
   ]
  },
  {
   "cell_type": "markdown",
   "metadata": {
    "_uuid": "ed7a190645750a818e29a6291ba2553a91764c7c"
   },
   "source": [
    "## Outliers (of price and item_cnt_day)"
   ]
  },
  {
   "cell_type": "markdown",
   "metadata": {
    "_uuid": "425d8f2dc08378977b393bf80c5fdcf0fba2c992"
   },
   "source": [
    "There are items with strange prices and sales. After detailed exploration I decided to remove items with price > 100000 and sales > 1001 (1000 is ok)."
   ]
  },
  {
   "cell_type": "code",
   "execution_count": 5,
   "metadata": {
    "_uuid": "5a864412fafc3129a3e9bd5bb1f18a7cf0c62935"
   },
   "outputs": [
    {
     "data": {
      "text/plain": [
       "<matplotlib.axes._subplots.AxesSubplot at 0x10f437278>"
      ]
     },
     "execution_count": 5,
     "metadata": {},
     "output_type": "execute_result"
    },
    {
     "data": {
      "image/png": "[encoded data removed]",
      "text/plain": [
       "<Figure size 720x288 with 1 Axes>"
      ]
     },
     "metadata": {
      "needs_background": "light"
     },
     "output_type": "display_data"
    },
    {
     "data": {
      "image/png": "[encoded data removed]",
      "text/plain": [
       "<Figure size 720x288 with 1 Axes>"
      ]
     },
     "metadata": {
      "needs_background": "light"
     },
     "output_type": "display_data"
    }
   ],
   "source": [
    "plt.figure(figsize=(10,4))\n",
    "plt.xlim(-100, 3000)\n",
    "sns.boxplot(x=train.item_cnt_day)\n",
    "\n",
    "plt.figure(figsize=(10,4))\n",
    "plt.xlim(train.item_price.min(), train.item_price.max()*1.1)\n",
    "sns.boxplot(x=train.item_price)"
   ]
  },
  {
   "cell_type": "code",
   "execution_count": 6,
   "metadata": {
    "_uuid": "7e621535d112603c60aeb2c2f83dbbf96d36b732",
    "collapsed": true
   },
   "outputs": [],
   "source": [
    "train = train[train.item_price<100000]\n",
    "train = train[train.item_cnt_day<1001]"
   ]
  },
  {
   "cell_type": "markdown",
   "metadata": {
    "_uuid": "d2f99368478e3063b1c379537944e954d7186928"
   },
   "source": [
    "There is one item with price below zero. Fill it with median."
   ]
  },
  {
   "cell_type": "code",
   "execution_count": 7,
   "metadata": {
    "_uuid": "0fc6b90b22fe232f4240ac8f965cc52b3db5526a",
    "collapsed": true
   },
   "outputs": [],
   "source": [
    "median = train[(train.shop_id==32)&(train.item_id==2973)&(train.date_block_num==4)&(train.item_price>0)].item_price.median()\n",
    "train.loc[train.item_price<0, 'item_price'] = median"
   ]
  },
  {
   "cell_type": "markdown",
   "metadata": {
    "_uuid": "7da194c285d696b5c6978148bf0143b9b2a7b0c5"
   },
   "source": [
    "Several shops are duplicates of each other (according to its name). Fix train and test set."
   ]
  },
  {
   "cell_type": "code",
   "execution_count": 8,
   "metadata": {
    "_uuid": "00fe91e9c482ea413abd774ff903fe3d152785dd",
    "collapsed": true
   },
   "outputs": [],
   "source": [
    "# Якутск Орджоникидзе, 56\n",
    "train.loc[train.shop_id == 0, 'shop_id'] = 57\n",
    "test.loc[test.shop_id == 0, 'shop_id'] = 57\n",
    "# Якутск ТЦ \"Центральный\"\n",
    "train.loc[train.shop_id == 1, 'shop_id'] = 58\n",
    "test.loc[test.shop_id == 1, 'shop_id'] = 58\n",
    "# Жуковский ул. Чкалова 39м²\n",
    "train.loc[train.shop_id == 10, 'shop_id'] = 11\n",
    "test.loc[test.shop_id == 10, 'shop_id'] = 11"
   ]
  },
  {
   "cell_type": "markdown",
   "metadata": {
    "_uuid": "a30f0521464e1fa20444e66d24bbdcb76b93f6de"
   },
   "source": [
    "## Shops/Cats/Items preprocessing\n",
    "Observations:\n",
    "* Each shop_name starts with the city name.\n",
    "* Each category contains type and subtype in its name."
   ]
  },
  {
   "cell_type": "code",
   "execution_count": 7,
   "metadata": {
    "_uuid": "12fae4c8d0c8f3e817307d1e0ffc6831e9a8d696",
    "collapsed": true
   },
   "outputs": [],
   "source": [
    "shops.loc[shops.shop_name == 'Сергиев Посад ТЦ \"7Я\"', 'shop_name'] = 'СергиевПосад ТЦ \"7Я\"'\n",
    "shops['city'] = shops['shop_name'].str.split(' ').map(lambda x: x[0]) #\n",
    "shops.loc[shops.city == '!Якутск', 'city'] = 'Якутск'\n",
    "shops['city_code'] = LabelEncoder().fit_transform(shops['city'])\n",
    "shops = shops[['shop_id','city_code']]\n",
    "\n",
    "cats['split'] = cats['item_category_name'].str.split('-')\n",
    "cats['type'] = cats['split'].map(lambda x: x[0].strip())\n",
    "cats['type_code'] = LabelEncoder().fit_transform(cats['type'])\n",
    "# if subtype is nan then type\n",
    "cats['subtype'] = cats['split'].map(lambda x: x[1].strip() if len(x) > 1 else x[0].strip())\n",
    "cats['subtype_code'] = LabelEncoder().fit_transform(cats['subtype'])\n",
    "cats = cats[['item_category_id','type_code', 'subtype_code']]\n",
    "\n",
    "items.drop(['item_name'], axis=1, inplace=True)"
   ]
  },
  {
   "cell_type": "markdown",
   "metadata": {
    "_uuid": "62c5f83fa222595da99294f465ab28e80ce415e9"
   },
   "source": [
    "## Monthly sales\n",
    "Test set is a product of some shops and some items within 34 month. There are 5100 items * 42 shops = 214200 pairs. 363 items are new compared to the train. "
   ]
  },
  {
   "cell_type": "code",
   "execution_count": 8,
   "metadata": {
    "_uuid": "fb69350aef2c28cdb619e2532de1e24ab3c43899"
   },
   "outputs": [
    {
     "data": {
      "text/plain": [
       "(363, 5100, 214200)"
      ]
     },
     "execution_count": 8,
     "metadata": {},
     "output_type": "execute_result"
    }
   ],
   "source": [
    "len(list(set(test.item_id) - set(test.item_id).intersection(set(train.item_id)) )), len(list(set(test.item_id))), len(test)"
   ]
  },
  {
   "cell_type": "markdown",
   "metadata": {},
   "source": [
    "#### 以下建立一dataframe：matrix，它將用來記錄「某個月中，某家店的某個item」的資訊。  \n",
    "也是因為我們最後要預測的是**monthly amount** of item_cnt_day."
   ]
  },
  {
   "cell_type": "code",
   "execution_count": 9,
   "metadata": {
    "_uuid": "7626c7455ea71b65894c6c866519df15080fa2ac"
   },
   "outputs": [
    {
     "data": {
      "text/plain": [
       "14.48514723777771"
      ]
     },
     "execution_count": 9,
     "metadata": {},
     "output_type": "execute_result"
    }
   ],
   "source": [
    "ts = time.time()\n",
    "matrix = []\n",
    "cols = ['date_block_num','shop_id','item_id']\n",
    "for i in range(34): # total 34 months in the training data\n",
    "    sales = train[train.date_block_num==i]\n",
    "    matrix.append(np.array(list(product([i], sales.shop_id.unique(), sales.item_id.unique())), dtype='int16'))\n",
    "    \n",
    "matrix = pd.DataFrame(np.vstack(matrix), columns=cols)\n",
    "matrix['date_block_num'] = matrix['date_block_num'].astype(np.int8)\n",
    "matrix['shop_id'] = matrix['shop_id'].astype(np.int8)\n",
    "matrix['item_id'] = matrix['item_id'].astype(np.int16)\n",
    "matrix.sort_values(cols,inplace=True)\n",
    "time.time() - ts"
   ]
  },
  {
   "cell_type": "code",
   "execution_count": 10,
   "metadata": {},
   "outputs": [
    {
     "name": "stdout",
     "output_type": "stream",
     "text": [
      "(10913804, 3)\n"
     ]
    },
    {
     "data": {
      "text/html": [
       "<div>\n",
       "<style scoped>\n",
       "    .dataframe tbody tr th:only-of-type {\n",
       "        vertical-align: middle;\n",
       "    }\n",
       "\n",
       "    .dataframe tbody tr th {\n",
       "        vertical-align: top;\n",
       "    }\n",
       "\n",
       "    .dataframe thead th {\n",
       "        text-align: right;\n",
       "    }\n",
       "</style>\n",
       "<table border=\"1\" class=\"dataframe\">\n",
       "  <thead>\n",
       "    <tr style=\"text-align: right;\">\n",
       "      <th></th>\n",
       "      <th>date_block_num</th>\n",
       "      <th>shop_id</th>\n",
       "      <th>item_id</th>\n",
       "    </tr>\n",
       "  </thead>\n",
       "  <tbody>\n",
       "    <tr>\n",
       "      <th>114910</th>\n",
       "      <td>0</td>\n",
       "      <td>2</td>\n",
       "      <td>19</td>\n",
       "    </tr>\n",
       "    <tr>\n",
       "      <th>117150</th>\n",
       "      <td>0</td>\n",
       "      <td>2</td>\n",
       "      <td>27</td>\n",
       "    </tr>\n",
       "  </tbody>\n",
       "</table>\n",
       "</div>"
      ],
      "text/plain": [
       "        date_block_num  shop_id  item_id\n",
       "114910               0        2       19\n",
       "117150               0        2       27"
      ]
     },
     "execution_count": 10,
     "metadata": {},
     "output_type": "execute_result"
    }
   ],
   "source": [
    "print(matrix.shape)\n",
    "matrix.head(2)"
   ]
  },
  {
   "cell_type": "markdown",
   "metadata": {
    "_uuid": "867e91a7570dd78b4834f4f1a166e58f80b63f93"
   },
   "source": [
    "在train中加入\"revenue\"，表該天裡該項產品所帶來的收入。它在後面的trend feature部分會用到。"
   ]
  },
  {
   "cell_type": "code",
   "execution_count": 11,
   "metadata": {
    "_uuid": "9fef5477060be7d2e6c85dcb79d8e18e6253f7dd",
    "collapsed": true
   },
   "outputs": [],
   "source": [
    "train['revenue'] = train['item_price'] * train['item_cnt_day']"
   ]
  },
  {
   "cell_type": "markdown",
   "metadata": {},
   "source": [
    "將item_cnt_month加到matrix中。    \n",
    "p.s. dataframe.groupby().agg()就如同relational database中relational algebra中的aggregate function  \n",
    "p.s. pandas中的merge和relational database的join很像。"
   ]
  },
  {
   "cell_type": "code",
   "execution_count": 12,
   "metadata": {
    "_uuid": "7dd27181918fc7df89676e24d72130d183929d2d"
   },
   "outputs": [
    {
     "data": {
      "text/plain": [
       "6.642135143280029"
      ]
     },
     "execution_count": 12,
     "metadata": {},
     "output_type": "execute_result"
    }
   ],
   "source": [
    "ts = time.time()\n",
    "group = train.groupby(['date_block_num','shop_id','item_id']).agg({'item_cnt_day': ['sum']})\n",
    "group.columns = ['item_cnt_month']\n",
    "group.reset_index(inplace=True)\n",
    "\n",
    "matrix = pd.merge(matrix, group, on=cols, how='left')\n",
    "matrix['item_cnt_month'] = (matrix['item_cnt_month']\n",
    "                                .fillna(0)\n",
    "                                .clip(0,20) # NB clip target here\n",
    "                                .astype(np.float16))\n",
    "time.time() - ts"
   ]
  },
  {
   "cell_type": "code",
   "execution_count": 13,
   "metadata": {},
   "outputs": [
    {
     "name": "stdout",
     "output_type": "stream",
     "text": [
      "(10913804, 4)\n"
     ]
    },
    {
     "data": {
      "text/html": [
       "<div>\n",
       "<style scoped>\n",
       "    .dataframe tbody tr th:only-of-type {\n",
       "        vertical-align: middle;\n",
       "    }\n",
       "\n",
       "    .dataframe tbody tr th {\n",
       "        vertical-align: top;\n",
       "    }\n",
       "\n",
       "    .dataframe thead th {\n",
       "        text-align: right;\n",
       "    }\n",
       "</style>\n",
       "<table border=\"1\" class=\"dataframe\">\n",
       "  <thead>\n",
       "    <tr style=\"text-align: right;\">\n",
       "      <th></th>\n",
       "      <th>date_block_num</th>\n",
       "      <th>shop_id</th>\n",
       "      <th>item_id</th>\n",
       "      <th>item_cnt_month</th>\n",
       "    </tr>\n",
       "  </thead>\n",
       "  <tbody>\n",
       "    <tr>\n",
       "      <th>0</th>\n",
       "      <td>0</td>\n",
       "      <td>2</td>\n",
       "      <td>19</td>\n",
       "      <td>0.0</td>\n",
       "    </tr>\n",
       "    <tr>\n",
       "      <th>1</th>\n",
       "      <td>0</td>\n",
       "      <td>2</td>\n",
       "      <td>27</td>\n",
       "      <td>1.0</td>\n",
       "    </tr>\n",
       "  </tbody>\n",
       "</table>\n",
       "</div>"
      ],
      "text/plain": [
       "   date_block_num  shop_id  item_id  item_cnt_month\n",
       "0               0        2       19             0.0\n",
       "1               0        2       27             1.0"
      ]
     },
     "execution_count": 13,
     "metadata": {},
     "output_type": "execute_result"
    }
   ],
   "source": [
    "print(matrix.shape)\n",
    "matrix.head(2)"
   ]
  },
  {
   "cell_type": "markdown",
   "metadata": {
    "_uuid": "315bc6107a93f3926a64fd09ea9244e9281ee41f"
   },
   "source": [
    "## Test set\n",
    "Append test pairs to the matrix."
   ]
  },
  {
   "cell_type": "code",
   "execution_count": 14,
   "metadata": {
    "_uuid": "29d02bdb4fa768577607bf735b918ca81da85d41",
    "collapsed": true
   },
   "outputs": [],
   "source": [
    "test['date_block_num'] = 34\n",
    "test['date_block_num'] = test['date_block_num'].astype(np.int8)\n",
    "test['shop_id'] = test['shop_id'].astype(np.int8)\n",
    "test['item_id'] = test['item_id'].astype(np.int16)"
   ]
  },
  {
   "cell_type": "markdown",
   "metadata": {},
   "source": [
    "在matrix中加入test相對應的rows，即「第34個月，某家店，某個item」"
   ]
  },
  {
   "cell_type": "code",
   "execution_count": 15,
   "metadata": {
    "_uuid": "177fbbab94c8057d67d61357d29581248468a74d"
   },
   "outputs": [
    {
     "data": {
      "text/plain": [
       "0.1405172348022461"
      ]
     },
     "execution_count": 15,
     "metadata": {},
     "output_type": "execute_result"
    }
   ],
   "source": [
    "ts = time.time()\n",
    "matrix = pd.concat([matrix, test], ignore_index=True, sort=False, keys=cols)\n",
    "matrix.fillna(0, inplace=True) # 34 month\n",
    "time.time() - ts"
   ]
  },
  {
   "cell_type": "code",
   "execution_count": 16,
   "metadata": {},
   "outputs": [
    {
     "name": "stdout",
     "output_type": "stream",
     "text": [
      "(11128004, 4)\n"
     ]
    },
    {
     "data": {
      "text/html": [
       "<div>\n",
       "<style scoped>\n",
       "    .dataframe tbody tr th:only-of-type {\n",
       "        vertical-align: middle;\n",
       "    }\n",
       "\n",
       "    .dataframe tbody tr th {\n",
       "        vertical-align: top;\n",
       "    }\n",
       "\n",
       "    .dataframe thead th {\n",
       "        text-align: right;\n",
       "    }\n",
       "</style>\n",
       "<table border=\"1\" class=\"dataframe\">\n",
       "  <thead>\n",
       "    <tr style=\"text-align: right;\">\n",
       "      <th></th>\n",
       "      <th>date_block_num</th>\n",
       "      <th>shop_id</th>\n",
       "      <th>item_id</th>\n",
       "      <th>item_cnt_month</th>\n",
       "    </tr>\n",
       "  </thead>\n",
       "  <tbody>\n",
       "    <tr>\n",
       "      <th>0</th>\n",
       "      <td>0</td>\n",
       "      <td>2</td>\n",
       "      <td>19</td>\n",
       "      <td>0.0</td>\n",
       "    </tr>\n",
       "    <tr>\n",
       "      <th>1</th>\n",
       "      <td>0</td>\n",
       "      <td>2</td>\n",
       "      <td>27</td>\n",
       "      <td>1.0</td>\n",
       "    </tr>\n",
       "  </tbody>\n",
       "</table>\n",
       "</div>"
      ],
      "text/plain": [
       "   date_block_num  shop_id  item_id  item_cnt_month\n",
       "0               0        2       19             0.0\n",
       "1               0        2       27             1.0"
      ]
     },
     "execution_count": 16,
     "metadata": {},
     "output_type": "execute_result"
    }
   ],
   "source": [
    "print(matrix.shape)\n",
    "matrix.head(2)"
   ]
  },
  {
   "cell_type": "markdown",
   "metadata": {
    "_uuid": "233e394a6cebf36ef002dc76fef8d430026a52b3"
   },
   "source": [
    "## Merge Shops/Items/Cats features"
   ]
  },
  {
   "cell_type": "markdown",
   "metadata": {},
   "source": [
    "以merge的方式在matrix中加入[\"city_code\", \"item_category_id\", \"type_code\", \"subtype_code\"]"
   ]
  },
  {
   "cell_type": "code",
   "execution_count": 17,
   "metadata": {
    "_uuid": "7dfd5df3e2bcaee4c312f3979736f52c40f2560f"
   },
   "outputs": [
    {
     "data": {
      "text/plain": [
       "5.83989405632019"
      ]
     },
     "execution_count": 17,
     "metadata": {},
     "output_type": "execute_result"
    }
   ],
   "source": [
    "ts = time.time()\n",
    "matrix = pd.merge(matrix, shops, on=['shop_id'], how='left') # has the ['city_code']\n",
    "matrix = pd.merge(matrix, items, on=['item_id'], how='left') # has the ['item_category_id']\n",
    "matrix = pd.merge(matrix, cats, on=['item_category_id'], how='left') # has the ['type_code','subtye_code']\n",
    "matrix['city_code'] = matrix['city_code'].astype(np.int8)\n",
    "matrix['item_category_id'] = matrix['item_category_id'].astype(np.int8)\n",
    "matrix['type_code'] = matrix['type_code'].astype(np.int8)\n",
    "matrix['subtype_code'] = matrix['subtype_code'].astype(np.int8)\n",
    "time.time() - ts"
   ]
  },
  {
   "cell_type": "code",
   "execution_count": 18,
   "metadata": {},
   "outputs": [
    {
     "data": {
      "text/html": [
       "<div>\n",
       "<style scoped>\n",
       "    .dataframe tbody tr th:only-of-type {\n",
       "        vertical-align: middle;\n",
       "    }\n",
       "\n",
       "    .dataframe tbody tr th {\n",
       "        vertical-align: top;\n",
       "    }\n",
       "\n",
       "    .dataframe thead th {\n",
       "        text-align: right;\n",
       "    }\n",
       "</style>\n",
       "<table border=\"1\" class=\"dataframe\">\n",
       "  <thead>\n",
       "    <tr style=\"text-align: right;\">\n",
       "      <th></th>\n",
       "      <th>date_block_num</th>\n",
       "      <th>shop_id</th>\n",
       "      <th>item_id</th>\n",
       "      <th>item_cnt_month</th>\n",
       "      <th>city_code</th>\n",
       "      <th>item_category_id</th>\n",
       "      <th>type_code</th>\n",
       "      <th>subtype_code</th>\n",
       "    </tr>\n",
       "  </thead>\n",
       "  <tbody>\n",
       "    <tr>\n",
       "      <th>0</th>\n",
       "      <td>0</td>\n",
       "      <td>2</td>\n",
       "      <td>19</td>\n",
       "      <td>0.0</td>\n",
       "      <td>0</td>\n",
       "      <td>40</td>\n",
       "      <td>11</td>\n",
       "      <td>4</td>\n",
       "    </tr>\n",
       "    <tr>\n",
       "      <th>1</th>\n",
       "      <td>0</td>\n",
       "      <td>2</td>\n",
       "      <td>27</td>\n",
       "      <td>1.0</td>\n",
       "      <td>0</td>\n",
       "      <td>19</td>\n",
       "      <td>5</td>\n",
       "      <td>10</td>\n",
       "    </tr>\n",
       "  </tbody>\n",
       "</table>\n",
       "</div>"
      ],
      "text/plain": [
       "   date_block_num  shop_id  item_id  item_cnt_month  city_code  \\\n",
       "0               0        2       19             0.0          0   \n",
       "1               0        2       27             1.0          0   \n",
       "\n",
       "   item_category_id  type_code  subtype_code  \n",
       "0                40         11             4  \n",
       "1                19          5            10  "
      ]
     },
     "execution_count": 18,
     "metadata": {},
     "output_type": "execute_result"
    }
   ],
   "source": [
    "matrix.head(2)"
   ]
  },
  {
   "cell_type": "markdown",
   "metadata": {
    "_uuid": "8358b291fdc8e0e7d1b5700974803b3f104715f7"
   },
   "source": [
    "## Traget lags"
   ]
  },
  {
   "cell_type": "markdown",
   "metadata": {},
   "source": [
    "lag_feature(df, lags, col)：在df中加入之於col的lag columns  \n",
    "(關鍵步驟：在date_block_num上做shift)"
   ]
  },
  {
   "cell_type": "code",
   "execution_count": 19,
   "metadata": {
    "_uuid": "9cd7bcc7643ce4545475e8e6f80d09a979aac42d",
    "collapsed": true
   },
   "outputs": [],
   "source": [
    "def lag_feature(df, lags, col):\n",
    "    tmp = df[['date_block_num','shop_id','item_id',col]]\n",
    "    for i in lags:\n",
    "        shifted = tmp.copy()\n",
    "        shifted.columns = ['date_block_num','shop_id','item_id', col+'_lag_'+str(i)]\n",
    "        shifted['date_block_num'] += i # forward the values of previous months (join with the later month below)\n",
    "        df = pd.merge(df, shifted, on=['date_block_num','shop_id','item_id'], how='left')\n",
    "    return df"
   ]
  },
  {
   "cell_type": "markdown",
   "metadata": {},
   "source": [
    "Add lag features of 'item_cnt_month'"
   ]
  },
  {
   "cell_type": "code",
   "execution_count": 20,
   "metadata": {
    "_uuid": "78bf7ece93ebc4629ad0e48cd6a9927788d8706d",
    "collapsed": true
   },
   "outputs": [
    {
     "data": {
      "text/plain": [
       "45.57046031951904"
      ]
     },
     "execution_count": 20,
     "metadata": {},
     "output_type": "execute_result"
    }
   ],
   "source": [
    "ts = time.time()\n",
    "matrix = lag_feature(matrix, [1,2,3,6,12], 'item_cnt_month')\n",
    "time.time() - ts"
   ]
  },
  {
   "cell_type": "code",
   "execution_count": 21,
   "metadata": {},
   "outputs": [
    {
     "data": {
      "text/html": [
       "<div>\n",
       "<style scoped>\n",
       "    .dataframe tbody tr th:only-of-type {\n",
       "        vertical-align: middle;\n",
       "    }\n",
       "\n",
       "    .dataframe tbody tr th {\n",
       "        vertical-align: top;\n",
       "    }\n",
       "\n",
       "    .dataframe thead th {\n",
       "        text-align: right;\n",
       "    }\n",
       "</style>\n",
       "<table border=\"1\" class=\"dataframe\">\n",
       "  <thead>\n",
       "    <tr style=\"text-align: right;\">\n",
       "      <th></th>\n",
       "      <th>date_block_num</th>\n",
       "      <th>shop_id</th>\n",
       "      <th>item_id</th>\n",
       "      <th>item_cnt_month</th>\n",
       "      <th>city_code</th>\n",
       "      <th>item_category_id</th>\n",
       "      <th>type_code</th>\n",
       "      <th>subtype_code</th>\n",
       "      <th>item_cnt_month_lag_1</th>\n",
       "      <th>item_cnt_month_lag_2</th>\n",
       "      <th>item_cnt_month_lag_3</th>\n",
       "      <th>item_cnt_month_lag_6</th>\n",
       "      <th>item_cnt_month_lag_12</th>\n",
       "    </tr>\n",
       "  </thead>\n",
       "  <tbody>\n",
       "    <tr>\n",
       "      <th>0</th>\n",
       "      <td>0</td>\n",
       "      <td>2</td>\n",
       "      <td>19</td>\n",
       "      <td>0.0</td>\n",
       "      <td>0</td>\n",
       "      <td>40</td>\n",
       "      <td>11</td>\n",
       "      <td>4</td>\n",
       "      <td>NaN</td>\n",
       "      <td>NaN</td>\n",
       "      <td>NaN</td>\n",
       "      <td>NaN</td>\n",
       "      <td>NaN</td>\n",
       "    </tr>\n",
       "    <tr>\n",
       "      <th>1</th>\n",
       "      <td>0</td>\n",
       "      <td>2</td>\n",
       "      <td>27</td>\n",
       "      <td>1.0</td>\n",
       "      <td>0</td>\n",
       "      <td>19</td>\n",
       "      <td>5</td>\n",
       "      <td>10</td>\n",
       "      <td>NaN</td>\n",
       "      <td>NaN</td>\n",
       "      <td>NaN</td>\n",
       "      <td>NaN</td>\n",
       "      <td>NaN</td>\n",
       "    </tr>\n",
       "  </tbody>\n",
       "</table>\n",
       "</div>"
      ],
      "text/plain": [
       "   date_block_num  shop_id  item_id  item_cnt_month  city_code  \\\n",
       "0               0        2       19             0.0          0   \n",
       "1               0        2       27             1.0          0   \n",
       "\n",
       "   item_category_id  type_code  subtype_code  item_cnt_month_lag_1  \\\n",
       "0                40         11             4                   NaN   \n",
       "1                19          5            10                   NaN   \n",
       "\n",
       "   item_cnt_month_lag_2  item_cnt_month_lag_3  item_cnt_month_lag_6  \\\n",
       "0                   NaN                   NaN                   NaN   \n",
       "1                   NaN                   NaN                   NaN   \n",
       "\n",
       "   item_cnt_month_lag_12  \n",
       "0                    NaN  \n",
       "1                    NaN  "
      ]
     },
     "execution_count": 21,
     "metadata": {},
     "output_type": "execute_result"
    }
   ],
   "source": [
    "matrix.head(2)"
   ]
  },
  {
   "cell_type": "markdown",
   "metadata": {
    "_uuid": "c67bf4dbcef884ffe9d19c65d37bc4de1f287ef6"
   },
   "source": [
    "## Mean encoded features"
   ]
  },
  {
   "cell_type": "markdown",
   "metadata": {},
   "source": [
    "以下在matrix中加入許多lag columns，加入的各columns在建立時，其aggregate function都是先matrix.groupby某一些column，再做.agg({'item_cnt_month': ['mean']})：  \n",
    "* .groupby(['date_block_num'])  \n",
    "* .groupby(['date_block_num', 'item_id'])，其lag取[1,2,3,6,12]  \n",
    "* .groupby(['date_block_num', 'shop_id'])，其lag取[1,2,3,6,12]  \n",
    "* .groupby(['date_block_num', 'item_category_id'])  \n",
    "* .groupby(['date_block_num', 'shop_id', 'item_category_id'])  \n",
    "* .groupby(['date_block_num', 'shop_id', 'type_code'])  \n",
    "* .groupby(['date_block_num', 'shop_id', 'subtype_code'])  \n",
    "* .groupby(['date_block_num', 'city_code'])  \n",
    "* .groupby(['date_block_num', 'item_id', 'city_code'])  \n",
    "* .groupby(['date_block_num', 'type_code'])  \n",
    "* .groupby(['date_block_num', 'subtype_code'])  "
   ]
  },
  {
   "cell_type": "code",
   "execution_count": 22,
   "metadata": {
    "_uuid": "763aca242154ea10fa0a62fffadb4ef90e9532d6",
    "collapsed": true
   },
   "outputs": [
    {
     "data": {
      "text/plain": [
       "15.960367918014526"
      ]
     },
     "execution_count": 22,
     "metadata": {},
     "output_type": "execute_result"
    }
   ],
   "source": [
    "ts = time.time()\n",
    "group = matrix.groupby(['date_block_num']).agg({'item_cnt_month': ['mean']})\n",
    "group.columns = [ 'date_avg_item_cnt' ]\n",
    "group.reset_index(inplace=True)\n",
    "\n",
    "matrix = pd.merge(matrix, group, on=['date_block_num'], how='left')\n",
    "matrix['date_avg_item_cnt'] = matrix['date_avg_item_cnt'].astype(np.float16)\n",
    "matrix = lag_feature(matrix, [1], 'date_avg_item_cnt')\n",
    "matrix.drop(['date_avg_item_cnt'], axis=1, inplace=True)\n",
    "time.time() - ts"
   ]
  },
  {
   "cell_type": "code",
   "execution_count": 23,
   "metadata": {
    "_uuid": "fc9166c4e678ebb99d03566f1751b7d4b5c690d2",
    "collapsed": true
   },
   "outputs": [
    {
     "data": {
      "text/plain": [
       "49.705212354660034"
      ]
     },
     "execution_count": 23,
     "metadata": {},
     "output_type": "execute_result"
    }
   ],
   "source": [
    "ts = time.time()\n",
    "group = matrix.groupby(['date_block_num', 'item_id']).agg({'item_cnt_month': ['mean']})\n",
    "group.columns = [ 'date_item_avg_item_cnt' ]\n",
    "group.reset_index(inplace=True)\n",
    "\n",
    "matrix = pd.merge(matrix, group, on=['date_block_num','item_id'], how='left')\n",
    "matrix['date_item_avg_item_cnt'] = matrix['date_item_avg_item_cnt'].astype(np.float16)\n",
    "matrix = lag_feature(matrix, [1,2,3,6,12], 'date_item_avg_item_cnt')\n",
    "matrix.drop(['date_item_avg_item_cnt'], axis=1, inplace=True)\n",
    "time.time() - ts"
   ]
  },
  {
   "cell_type": "code",
   "execution_count": 24,
   "metadata": {
    "_uuid": "73f2552c403c5f67bbf07f28d69efcc015d00f32",
    "collapsed": true
   },
   "outputs": [
    {
     "data": {
      "text/plain": [
       "54.15058708190918"
      ]
     },
     "execution_count": 24,
     "metadata": {},
     "output_type": "execute_result"
    }
   ],
   "source": [
    "ts = time.time()\n",
    "group = matrix.groupby(['date_block_num', 'shop_id']).agg({'item_cnt_month': ['mean']})\n",
    "group.columns = [ 'date_shop_avg_item_cnt' ]\n",
    "group.reset_index(inplace=True)\n",
    "\n",
    "matrix = pd.merge(matrix, group, on=['date_block_num','shop_id'], how='left')\n",
    "matrix['date_shop_avg_item_cnt'] = matrix['date_shop_avg_item_cnt'].astype(np.float16)\n",
    "matrix = lag_feature(matrix, [1,2,3,6,12], 'date_shop_avg_item_cnt')\n",
    "matrix.drop(['date_shop_avg_item_cnt'], axis=1, inplace=True)\n",
    "time.time() - ts"
   ]
  },
  {
   "cell_type": "code",
   "execution_count": 25,
   "metadata": {
    "_uuid": "c3948a9b206bc480b31385c29a713aa49747de19",
    "collapsed": true
   },
   "outputs": [
    {
     "data": {
      "text/plain": [
       "17.607969760894775"
      ]
     },
     "execution_count": 25,
     "metadata": {},
     "output_type": "execute_result"
    }
   ],
   "source": [
    "ts = time.time()\n",
    "group = matrix.groupby(['date_block_num', 'item_category_id']).agg({'item_cnt_month': ['mean']})\n",
    "group.columns = [ 'date_cat_avg_item_cnt' ]\n",
    "group.reset_index(inplace=True)\n",
    "\n",
    "matrix = pd.merge(matrix, group, on=['date_block_num','item_category_id'], how='left')\n",
    "matrix['date_cat_avg_item_cnt'] = matrix['date_cat_avg_item_cnt'].astype(np.float16)\n",
    "matrix = lag_feature(matrix, [1], 'date_cat_avg_item_cnt')\n",
    "matrix.drop(['date_cat_avg_item_cnt'], axis=1, inplace=True)\n",
    "time.time() - ts"
   ]
  },
  {
   "cell_type": "code",
   "execution_count": 26,
   "metadata": {
    "_uuid": "bf98335755692f0d7666eeac2db1961692f09a16",
    "collapsed": true
   },
   "outputs": [
    {
     "data": {
      "text/plain": [
       "22.324707746505737"
      ]
     },
     "execution_count": 26,
     "metadata": {},
     "output_type": "execute_result"
    }
   ],
   "source": [
    "ts = time.time()\n",
    "group = matrix.groupby(['date_block_num', 'shop_id', 'item_category_id']).agg({'item_cnt_month': ['mean']})\n",
    "group.columns = ['date_shop_cat_avg_item_cnt']\n",
    "group.reset_index(inplace=True)\n",
    "\n",
    "matrix = pd.merge(matrix, group, on=['date_block_num', 'shop_id', 'item_category_id'], how='left')\n",
    "matrix['date_shop_cat_avg_item_cnt'] = matrix['date_shop_cat_avg_item_cnt'].astype(np.float16)\n",
    "matrix = lag_feature(matrix, [1], 'date_shop_cat_avg_item_cnt')\n",
    "matrix.drop(['date_shop_cat_avg_item_cnt'], axis=1, inplace=True)\n",
    "time.time() - ts"
   ]
  },
  {
   "cell_type": "code",
   "execution_count": 27,
   "metadata": {
    "_uuid": "3959603ea684eb3cbfd17d557399caa6e9da88e4",
    "collapsed": true
   },
   "outputs": [
    {
     "data": {
      "text/plain": [
       "22.027258157730103"
      ]
     },
     "execution_count": 27,
     "metadata": {},
     "output_type": "execute_result"
    }
   ],
   "source": [
    "ts = time.time()\n",
    "group = matrix.groupby(['date_block_num', 'shop_id', 'type_code']).agg({'item_cnt_month': ['mean']})\n",
    "group.columns = ['date_shop_type_avg_item_cnt']\n",
    "group.reset_index(inplace=True)\n",
    "\n",
    "matrix = pd.merge(matrix, group, on=['date_block_num', 'shop_id', 'type_code'], how='left')\n",
    "matrix['date_shop_type_avg_item_cnt'] = matrix['date_shop_type_avg_item_cnt'].astype(np.float16)\n",
    "matrix = lag_feature(matrix, [1], 'date_shop_type_avg_item_cnt')\n",
    "matrix.drop(['date_shop_type_avg_item_cnt'], axis=1, inplace=True)\n",
    "time.time() - ts"
   ]
  },
  {
   "cell_type": "code",
   "execution_count": 28,
   "metadata": {
    "_uuid": "39f66d2e30f691237aa5d41ff9fc3a0eb7e9a788",
    "collapsed": true
   },
   "outputs": [
    {
     "data": {
      "text/plain": [
       "23.844428062438965"
      ]
     },
     "execution_count": 28,
     "metadata": {},
     "output_type": "execute_result"
    }
   ],
   "source": [
    "ts = time.time()\n",
    "group = matrix.groupby(['date_block_num', 'shop_id', 'subtype_code']).agg({'item_cnt_month': ['mean']})\n",
    "group.columns = ['date_shop_subtype_avg_item_cnt']\n",
    "group.reset_index(inplace=True)\n",
    "\n",
    "matrix = pd.merge(matrix, group, on=['date_block_num', 'shop_id', 'subtype_code'], how='left')\n",
    "matrix['date_shop_subtype_avg_item_cnt'] = matrix['date_shop_subtype_avg_item_cnt'].astype(np.float16)\n",
    "matrix = lag_feature(matrix, [1], 'date_shop_subtype_avg_item_cnt')\n",
    "matrix.drop(['date_shop_subtype_avg_item_cnt'], axis=1, inplace=True)\n",
    "time.time() - ts"
   ]
  },
  {
   "cell_type": "code",
   "execution_count": 29,
   "metadata": {
    "_uuid": "87d57d01beb0830138dabae79b4022d4c6a9cc12",
    "collapsed": true
   },
   "outputs": [
    {
     "data": {
      "text/plain": [
       "22.39388370513916"
      ]
     },
     "execution_count": 29,
     "metadata": {},
     "output_type": "execute_result"
    }
   ],
   "source": [
    "ts = time.time()\n",
    "group = matrix.groupby(['date_block_num', 'city_code']).agg({'item_cnt_month': ['mean']})\n",
    "group.columns = [ 'date_city_avg_item_cnt' ]\n",
    "group.reset_index(inplace=True)\n",
    "\n",
    "matrix = pd.merge(matrix, group, on=['date_block_num', 'city_code'], how='left')\n",
    "matrix['date_city_avg_item_cnt'] = matrix['date_city_avg_item_cnt'].astype(np.float16)\n",
    "matrix = lag_feature(matrix, [1], 'date_city_avg_item_cnt')\n",
    "matrix.drop(['date_city_avg_item_cnt'], axis=1, inplace=True)\n",
    "time.time() - ts"
   ]
  },
  {
   "cell_type": "code",
   "execution_count": 30,
   "metadata": {
    "_uuid": "db1f0170ec4a6fd9894bc53b36f3166d4b26abcf",
    "collapsed": true
   },
   "outputs": [
    {
     "data": {
      "text/plain": [
       "31.422506093978882"
      ]
     },
     "execution_count": 30,
     "metadata": {},
     "output_type": "execute_result"
    }
   ],
   "source": [
    "ts = time.time()\n",
    "group = matrix.groupby(['date_block_num', 'item_id', 'city_code']).agg({'item_cnt_month': ['mean']})\n",
    "group.columns = [ 'date_item_city_avg_item_cnt' ]\n",
    "group.reset_index(inplace=True)\n",
    "\n",
    "matrix = pd.merge(matrix, group, on=['date_block_num', 'item_id', 'city_code'], how='left')\n",
    "matrix['date_item_city_avg_item_cnt'] = matrix['date_item_city_avg_item_cnt'].astype(np.float16)\n",
    "matrix = lag_feature(matrix, [1], 'date_item_city_avg_item_cnt')\n",
    "matrix.drop(['date_item_city_avg_item_cnt'], axis=1, inplace=True)\n",
    "time.time() - ts"
   ]
  },
  {
   "cell_type": "code",
   "execution_count": 31,
   "metadata": {
    "_uuid": "3cd5232ad63357dacebe9d223cc93dd669132bb7",
    "collapsed": true
   },
   "outputs": [
    {
     "data": {
      "text/plain": [
       "20.48703098297119"
      ]
     },
     "execution_count": 31,
     "metadata": {},
     "output_type": "execute_result"
    }
   ],
   "source": [
    "ts = time.time()\n",
    "group = matrix.groupby(['date_block_num', 'type_code']).agg({'item_cnt_month': ['mean']})\n",
    "group.columns = [ 'date_type_avg_item_cnt' ]\n",
    "group.reset_index(inplace=True)\n",
    "\n",
    "matrix = pd.merge(matrix, group, on=['date_block_num', 'type_code'], how='left')\n",
    "matrix['date_type_avg_item_cnt'] = matrix['date_type_avg_item_cnt'].astype(np.float16)\n",
    "matrix = lag_feature(matrix, [1], 'date_type_avg_item_cnt')\n",
    "matrix.drop(['date_type_avg_item_cnt'], axis=1, inplace=True)\n",
    "time.time() - ts"
   ]
  },
  {
   "cell_type": "code",
   "execution_count": 32,
   "metadata": {
    "_uuid": "00394f3694ae9c7093176eadac7abeaa79ff5467",
    "collapsed": true
   },
   "outputs": [
    {
     "data": {
      "text/plain": [
       "22.29037117958069"
      ]
     },
     "execution_count": 32,
     "metadata": {},
     "output_type": "execute_result"
    }
   ],
   "source": [
    "ts = time.time()\n",
    "group = matrix.groupby(['date_block_num', 'subtype_code']).agg({'item_cnt_month': ['mean']})\n",
    "group.columns = [ 'date_subtype_avg_item_cnt' ]\n",
    "group.reset_index(inplace=True)\n",
    "\n",
    "matrix = pd.merge(matrix, group, on=['date_block_num', 'subtype_code'], how='left')\n",
    "matrix['date_subtype_avg_item_cnt'] = matrix['date_subtype_avg_item_cnt'].astype(np.float16)\n",
    "matrix = lag_feature(matrix, [1], 'date_subtype_avg_item_cnt')\n",
    "matrix.drop(['date_subtype_avg_item_cnt'], axis=1, inplace=True)\n",
    "time.time() - ts"
   ]
  },
  {
   "cell_type": "markdown",
   "metadata": {
    "_uuid": "6bcea31d93ab035ca3fa1ed7c0afddbf602c414a"
   },
   "source": [
    "## Trend features"
   ]
  },
  {
   "cell_type": "markdown",
   "metadata": {
    "_uuid": "0504e9613087237c255914d9ebd165fac4e88cd0"
   },
   "source": [
    "Price trend for the last six months.  "
   ]
  },
  {
   "cell_type": "code",
   "execution_count": 33,
   "metadata": {
    "_uuid": "0da2ded8502e273137991fd2bebbadaf19c19622",
    "collapsed": true
   },
   "outputs": [
    {
     "data": {
      "text/plain": [
       "493.22503304481506"
      ]
     },
     "execution_count": 33,
     "metadata": {},
     "output_type": "execute_result"
    }
   ],
   "source": [
    "ts = time.time()\n",
    "\n",
    "# 某item在所有train月下的平均價格\n",
    "group = train.groupby(['item_id']).agg({'item_price': ['mean']})\n",
    "group.columns = ['item_avg_item_price']\n",
    "group.reset_index(inplace=True)\n",
    "\n",
    "matrix = pd.merge(matrix, group, on=['item_id'], how='left')\n",
    "matrix['item_avg_item_price'] = matrix['item_avg_item_price'].astype(np.float16)\n",
    "\n",
    "# 某item在某個月的平均價格\n",
    "group = train.groupby(['date_block_num','item_id']).agg({'item_price': ['mean']})\n",
    "group.columns = ['date_item_avg_item_price']\n",
    "group.reset_index(inplace=True)\n",
    "\n",
    "matrix = pd.merge(matrix, group, on=['date_block_num','item_id'], how='left')\n",
    "matrix['date_item_avg_item_price'] = matrix['date_item_avg_item_price'].astype(np.float16)\n",
    "\n",
    "lags = [1,2,3,4,5,6]\n",
    "matrix = lag_feature(matrix, lags, 'date_item_avg_item_price')\n",
    "\n",
    "# 「某item在某個月（lag1~lag6）的平均價格」相對於「某item在所有train月下的平均價格」\n",
    "for i in lags:\n",
    "    matrix['delta_price_lag_'+str(i)] = \\\n",
    "        (matrix['date_item_avg_item_price_lag_'+str(i)] - matrix['item_avg_item_price']) / matrix['item_avg_item_price']\n",
    "\n",
    "# me: return the first non-0 lag value of the row (check from _1 to _6)\n",
    "def select_trend(row):\n",
    "    for i in lags:\n",
    "        if row['delta_price_lag_'+str(i)]:\n",
    "            return row['delta_price_lag_'+str(i)]\n",
    "    return 0\n",
    "    \n",
    "# me: the ['delta_price_lag'] of each row is the first non-0 'delta_price_lag_ \n",
    "# (check from the last month to the last sizth month)\n",
    "matrix['delta_price_lag'] = matrix.apply(select_trend, axis=1)\n",
    "matrix['delta_price_lag'] = matrix['delta_price_lag'].astype(np.float16)\n",
    "matrix['delta_price_lag'].fillna(0, inplace=True)\n",
    "\n",
    "fetures_to_drop = ['item_avg_item_price', 'date_item_avg_item_price']\n",
    "for i in lags:\n",
    "    fetures_to_drop += ['date_item_avg_item_price_lag_'+str(i)]\n",
    "    fetures_to_drop += ['delta_price_lag_'+str(i)]\n",
    "\n",
    "matrix.drop(fetures_to_drop, axis=1, inplace=True)\n",
    "\n",
    "time.time() - ts"
   ]
  },
  {
   "cell_type": "markdown",
   "metadata": {
    "_uuid": "17765ddb48f52abd88847a42c0a3ffe974e5b121"
   },
   "source": [
    "Last month shop revenue trend  "
   ]
  },
  {
   "cell_type": "code",
   "execution_count": 34,
   "metadata": {
    "_uuid": "e633be47f1a22b41487866ce67fb874bd296339e",
    "collapsed": true
   },
   "outputs": [
    {
     "data": {
      "text/plain": [
       "25.4444899559021"
      ]
     },
     "execution_count": 34,
     "metadata": {},
     "output_type": "execute_result"
    }
   ],
   "source": [
    "ts = time.time()\n",
    "\n",
    "# 某個月下，某店，收入多少\n",
    "group = train.groupby(['date_block_num','shop_id']).agg({'revenue': ['sum']})\n",
    "group.columns = ['date_shop_revenue']\n",
    "group.reset_index(inplace=True)\n",
    "\n",
    "matrix = pd.merge(matrix, group, on=['date_block_num','shop_id'], how='left')\n",
    "matrix['date_shop_revenue'] = matrix['date_shop_revenue'].astype(np.float32)\n",
    "\n",
    "# 某家店，平均月收入多少\n",
    "group = group.groupby(['shop_id']).agg({'date_shop_revenue': ['mean']})\n",
    "group.columns = ['shop_avg_revenue']\n",
    "group.reset_index(inplace=True)\n",
    "\n",
    "matrix = pd.merge(matrix, group, on=['shop_id'], how='left')\n",
    "matrix['shop_avg_revenue'] = matrix['shop_avg_revenue'].astype(np.float32)\n",
    "\n",
    "# 「某個月下，某家店的收入」相對於「該家店的平均月收入」\n",
    "matrix['delta_revenue'] = (matrix['date_shop_revenue'] - matrix['shop_avg_revenue']) / matrix['shop_avg_revenue']\n",
    "matrix['delta_revenue'] = matrix['delta_revenue'].astype(np.float16)\n",
    "\n",
    "# me: does not use something like select_trend(), \n",
    "# I think it's because 'delta_revenue' are all non-0\n",
    "matrix = lag_feature(matrix, [1], 'delta_revenue')\n",
    "\n",
    "matrix.drop(['date_shop_revenue','shop_avg_revenue','delta_revenue'], axis=1, inplace=True)\n",
    "time.time() - ts"
   ]
  },
  {
   "cell_type": "markdown",
   "metadata": {
    "_uuid": "47e06af411b7d26cd93dad3d6735e48e5fbdee50"
   },
   "source": [
    "## Special features  "
   ]
  },
  {
   "cell_type": "code",
   "execution_count": 35,
   "metadata": {
    "_uuid": "bb521e1f33d4124a3b90b47447bdb29150770b6e",
    "collapsed": true
   },
   "outputs": [],
   "source": [
    "# 月份\n",
    "matrix['month'] = matrix['date_block_num'] % 12"
   ]
  },
  {
   "cell_type": "code",
   "execution_count": 36,
   "metadata": {
    "_uuid": "e23f0201056b73368e3b70d4c36c6bb9e4a55291",
    "collapsed": true
   },
   "outputs": [],
   "source": [
    "# 該月天數\n",
    "# 以Series.map()的方式，創建一個值有對應關係的新的series\n",
    "days = pd.Series([31,28,31,30,31,30,31,31,30,31,30,31])\n",
    "matrix['days'] = matrix['month'].map(days).astype(np.int8)"
   ]
  },
  {
   "cell_type": "markdown",
   "metadata": {
    "_uuid": "7c096e86eb0043c0f6eeb899de24e28ca4c4e044"
   },
   "source": [
    "#Months **since the last** sale for each shop/item pair.  \n",
    "Recording the cycle of the buying of each item in each store.  \n",
    "<i>Create HashTable with key equals to {shop_id,item_id} and value equals to date_block_num. Iterate data from the top. Foreach row if {row.shop_id,row.item_id} is not present in the table, then add it to the table and set its value to row.date_block_num. if HashTable contains key, then calculate the difference beteween cached value and row.date_block_num.</i>  "
   ]
  },
  {
   "cell_type": "code",
   "execution_count": 37,
   "metadata": {
    "_uuid": "3458a7056c963167760921417d1f863f074f2b39",
    "collapsed": true
   },
   "outputs": [
    {
     "data": {
      "text/plain": [
       "2211.7938210964203"
      ]
     },
     "execution_count": 37,
     "metadata": {},
     "output_type": "execute_result"
    }
   ],
   "source": [
    "ts = time.time()\n",
    "cache = {}\n",
    "matrix['item_shop_last_sale'] = -1\n",
    "matrix['item_shop_last_sale'] = matrix['item_shop_last_sale'].astype(np.int8)\n",
    "for idx, row in matrix.iterrows():    \n",
    "    key = str(row.item_id)+' '+str(row.shop_id)\n",
    "    if key not in cache:\n",
    "        if row.item_cnt_month!=0:\n",
    "            cache[key] = row.date_block_num\n",
    "    else:\n",
    "        last_date_block_num = cache[key]\n",
    "        matrix.at[idx, 'item_shop_last_sale'] = row.date_block_num - last_date_block_num\n",
    "        cache[key] = row.date_block_num         \n",
    "time.time() - ts"
   ]
  },
  {
   "cell_type": "markdown",
   "metadata": {},
   "source": [
    "#Months **since the last** sale for each item.  \n",
    "Record the cycle of the buying of each item (all store)."
   ]
  },
  {
   "cell_type": "code",
   "execution_count": 38,
   "metadata": {
    "_uuid": "28b29fae3906d870b4dc3064a7f359b6d3abf623",
    "collapsed": true
   },
   "outputs": [
    {
     "data": {
      "text/plain": [
       "1466.9659650325775"
      ]
     },
     "execution_count": 38,
     "metadata": {},
     "output_type": "execute_result"
    }
   ],
   "source": [
    "ts = time.time()\n",
    "cache = {}\n",
    "matrix['item_last_sale'] = -1\n",
    "matrix['item_last_sale'] = matrix['item_last_sale'].astype(np.int8)\n",
    "for idx, row in matrix.iterrows():    \n",
    "    key = row.item_id\n",
    "    if key not in cache:\n",
    "        if row.item_cnt_month!=0:\n",
    "            cache[key] = row.date_block_num\n",
    "    else:\n",
    "        last_date_block_num = cache[key]\n",
    "        if row.date_block_num > last_date_block_num:\n",
    "            matrix.at[idx, 'item_last_sale'] = row.date_block_num - last_date_block_num\n",
    "            cache[key] = row.date_block_num         \n",
    "time.time() - ts"
   ]
  },
  {
   "cell_type": "markdown",
   "metadata": {
    "_uuid": "61987e6adc1bec2ea897eec837c0253f7f73fdb5"
   },
   "source": [
    "#Months **since the first** sale for each shop/item pairs.  \n",
    "#Months **since the first** sale for each item."
   ]
  },
  {
   "cell_type": "code",
   "execution_count": 39,
   "metadata": {
    "_uuid": "ad0869709bbada35726d5ca41dd913d817249f8e",
    "collapsed": true
   },
   "outputs": [
    {
     "data": {
      "text/plain": [
       "3.245944023132324"
      ]
     },
     "execution_count": 39,
     "metadata": {},
     "output_type": "execute_result"
    }
   ],
   "source": [
    "ts = time.time()\n",
    "matrix['item_shop_first_sale'] = matrix['date_block_num'] - matrix.groupby(['item_id','shop_id'])['date_block_num'].transform('min')\n",
    "matrix['item_first_sale'] = matrix['date_block_num'] - matrix.groupby('item_id')['date_block_num'].transform('min')\n",
    "time.time() - ts"
   ]
  },
  {
   "cell_type": "markdown",
   "metadata": {
    "_uuid": "966cb34ccfe849fbb3707d93270691cb8eef7a89"
   },
   "source": [
    "## Final preparations\n",
    "Because our max lag value is 12, drop the first 12 months.  "
   ]
  },
  {
   "cell_type": "code",
   "execution_count": 40,
   "metadata": {
    "_uuid": "04df1bc4240f409a5d4521c6f70c2ced44f7c3d4",
    "collapsed": true
   },
   "outputs": [
    {
     "data": {
      "text/plain": [
       "1.9117240905761719"
      ]
     },
     "execution_count": 40,
     "metadata": {},
     "output_type": "execute_result"
    }
   ],
   "source": [
    "ts = time.time()\n",
    "matrix = matrix[matrix.date_block_num > 11]\n",
    "time.time() - ts"
   ]
  },
  {
   "cell_type": "markdown",
   "metadata": {
    "_uuid": "48a14784050901f878b40f093e4bc34e07ecce05"
   },
   "source": [
    "Producing lags brings a lot of nulls. (原因如：前一個月和目前這一個月，陳列出的產品會有不同）"
   ]
  },
  {
   "cell_type": "code",
   "execution_count": 41,
   "metadata": {
    "_uuid": "8e5d8cb5cea9be28af4a0486cc1bf797e5b5c7ee",
    "collapsed": true
   },
   "outputs": [
    {
     "data": {
      "text/plain": [
       "6.580653190612793"
      ]
     },
     "execution_count": 41,
     "metadata": {},
     "output_type": "execute_result"
    }
   ],
   "source": [
    "ts = time.time()\n",
    "def fill_na(df):\n",
    "    for col in df.columns:\n",
    "        if ('_lag_' in col) & (df[col].isnull().any()):\n",
    "            if ('item_cnt' in col): # me: exclude 'delta_price_lag'\n",
    "                df[col].fillna(0, inplace=True)         \n",
    "    return df\n",
    "\n",
    "matrix = fill_na(matrix)\n",
    "time.time() - ts"
   ]
  },
  {
   "cell_type": "code",
   "execution_count": 42,
   "metadata": {
    "_uuid": "00bf3fffc1b143d0555d03b9d79b5fd00d9d0dc9",
    "collapsed": true
   },
   "outputs": [
    {
     "data": {
      "text/plain": [
       "Index(['date_block_num', 'shop_id', 'item_id', 'item_cnt_month', 'city_code',\n",
       "       'item_category_id', 'type_code', 'subtype_code', 'item_cnt_month_lag_1',\n",
       "       'item_cnt_month_lag_2', 'item_cnt_month_lag_3', 'item_cnt_month_lag_6',\n",
       "       'item_cnt_month_lag_12', 'date_avg_item_cnt_lag_1',\n",
       "       'date_item_avg_item_cnt_lag_1', 'date_item_avg_item_cnt_lag_2',\n",
       "       'date_item_avg_item_cnt_lag_3', 'date_item_avg_item_cnt_lag_6',\n",
       "       'date_item_avg_item_cnt_lag_12', 'date_shop_avg_item_cnt_lag_1',\n",
       "       'date_shop_avg_item_cnt_lag_2', 'date_shop_avg_item_cnt_lag_3',\n",
       "       'date_shop_avg_item_cnt_lag_6', 'date_shop_avg_item_cnt_lag_12',\n",
       "       'date_cat_avg_item_cnt_lag_1', 'date_shop_cat_avg_item_cnt_lag_1',\n",
       "       'date_shop_type_avg_item_cnt_lag_1',\n",
       "       'date_shop_subtype_avg_item_cnt_lag_1', 'date_city_avg_item_cnt_lag_1',\n",
       "       'date_item_city_avg_item_cnt_lag_1', 'date_type_avg_item_cnt_lag_1',\n",
       "       'date_subtype_avg_item_cnt_lag_1', 'delta_price_lag',\n",
       "       'delta_revenue_lag_1', 'month', 'days', 'item_shop_last_sale',\n",
       "       'item_last_sale', 'item_shop_first_sale', 'item_first_sale'],\n",
       "      dtype='object')"
      ]
     },
     "execution_count": 42,
     "metadata": {},
     "output_type": "execute_result"
    }
   ],
   "source": [
    "matrix.columns"
   ]
  },
  {
   "cell_type": "code",
   "execution_count": 43,
   "metadata": {
    "_uuid": "5f4e4c5c552daf8d4da6999ae4b63f13459b2887",
    "collapsed": true
   },
   "outputs": [
    {
     "name": "stdout",
     "output_type": "stream",
     "text": [
      "<class 'pandas.core.frame.DataFrame'>\n",
      "Int64Index: 6639294 entries, 4488710 to 11128003\n",
      "Data columns (total 40 columns):\n",
      "date_block_num                          int8\n",
      "shop_id                                 int8\n",
      "item_id                                 int16\n",
      "item_cnt_month                          float16\n",
      "city_code                               int8\n",
      "item_category_id                        int8\n",
      "type_code                               int8\n",
      "subtype_code                            int8\n",
      "item_cnt_month_lag_1                    float16\n",
      "item_cnt_month_lag_2                    float16\n",
      "item_cnt_month_lag_3                    float16\n",
      "item_cnt_month_lag_6                    float16\n",
      "item_cnt_month_lag_12                   float16\n",
      "date_avg_item_cnt_lag_1                 float16\n",
      "date_item_avg_item_cnt_lag_1            float16\n",
      "date_item_avg_item_cnt_lag_2            float16\n",
      "date_item_avg_item_cnt_lag_3            float16\n",
      "date_item_avg_item_cnt_lag_6            float16\n",
      "date_item_avg_item_cnt_lag_12           float16\n",
      "date_shop_avg_item_cnt_lag_1            float16\n",
      "date_shop_avg_item_cnt_lag_2            float16\n",
      "date_shop_avg_item_cnt_lag_3            float16\n",
      "date_shop_avg_item_cnt_lag_6            float16\n",
      "date_shop_avg_item_cnt_lag_12           float16\n",
      "date_cat_avg_item_cnt_lag_1             float16\n",
      "date_shop_cat_avg_item_cnt_lag_1        float16\n",
      "date_shop_type_avg_item_cnt_lag_1       float16\n",
      "date_shop_subtype_avg_item_cnt_lag_1    float16\n",
      "date_city_avg_item_cnt_lag_1            float16\n",
      "date_item_city_avg_item_cnt_lag_1       float16\n",
      "date_type_avg_item_cnt_lag_1            float16\n",
      "date_subtype_avg_item_cnt_lag_1         float16\n",
      "delta_price_lag                         float16\n",
      "delta_revenue_lag_1                     float16\n",
      "month                                   int8\n",
      "days                                    int8\n",
      "item_shop_last_sale                     int8\n",
      "item_last_sale                          int8\n",
      "item_shop_first_sale                    int8\n",
      "item_first_sale                         int8\n",
      "dtypes: float16(27), int16(1), int8(12)\n",
      "memory usage: 481.2 MB\n"
     ]
    }
   ],
   "source": [
    "matrix.info()"
   ]
  },
  {
   "cell_type": "code",
   "execution_count": 44,
   "metadata": {
    "_uuid": "5d9988f8da8876f74092fbf827ceb6c61dd09d5e",
    "collapsed": true
   },
   "outputs": [],
   "source": [
    "matrix.to_pickle('data.pkl')\n",
    "del matrix\n",
    "del cache\n",
    "del group\n",
    "del items\n",
    "del shops\n",
    "del cats\n",
    "del train\n",
    "# leave test for submission\n",
    "gc.collect();"
   ]
  },
  {
   "cell_type": "markdown",
   "metadata": {
    "_uuid": "b69932efb440af8f6435f3cd802fbcd15682af71"
   },
   "source": [
    "# Part 2, Models and Predictions"
   ]
  },
  {
   "cell_type": "markdown",
   "metadata": {},
   "source": [
    "#### 2.1 LGBM (refer: lgbm.ipynb)\n",
    "由於這種tabular data的情況\n",
    "以GBT為目前來說相當有效的方法，因此除了Xgboost外，我簡單試了LGBM，其速度明顯快於Xgboost。"
   ]
  },
  {
   "cell_type": "markdown",
   "metadata": {},
   "source": [
    "#### 2.2 Back to Xgboost  \n",
    "* 由於LGBM在public leaderboard上效果不佳，因此決定還是從原本此kernel使用的Xgboost下手。  \n",
    "* 我在此將所有原作者創造的Mean Encode Feature都comment掉，一方面是因為原先我理解錯誤，以為作者將target當成X了; 另一方面也覺得可以從最基本的幾個feature做起，以簡單為原則。\n",
    "* 跑出的結果竟然比原kernel的public score更好。\n",
    "* 以下探討Xgboost的feature selection的必要性：\n",
    "    * 本以為Xgboost自己會做特徵選擇，因此我們不太需要先做。\n",
    "    * 經過特徵篩選後，無論如何可以提升performance\n",
    "    * xgboost或者说每棵树在选择分叉点的时候，都是以**贪婪的方式**选择局部最优，所以有些特征可能在局部不错，但是从整体上看降低了模型整体的精度。"
   ]
  },
  {
   "cell_type": "code",
   "execution_count": 5,
   "metadata": {
    "_uuid": "a54364495b1818e9f069efa0c53500bf9e21d5f9",
    "collapsed": true
   },
   "outputs": [],
   "source": [
    "data = pd.read_pickle('data.pkl')"
   ]
  },
  {
   "cell_type": "code",
   "execution_count": 6,
   "metadata": {
    "_uuid": "bfc928a916bb8b285b2fe90fb1a311cf2fbbf2e3",
    "collapsed": true
   },
   "outputs": [],
   "source": [
    "data = data[[\n",
    "    'date_block_num',\n",
    "    'shop_id',\n",
    "    'item_id',\n",
    "    'item_cnt_month',\n",
    "    'city_code',\n",
    "    'item_category_id',\n",
    "    'type_code',\n",
    "    'subtype_code',\n",
    "    'item_cnt_month_lag_1',\n",
    "    'item_cnt_month_lag_2',\n",
    "    'item_cnt_month_lag_3',\n",
    "    'item_cnt_month_lag_6',\n",
    "    'item_cnt_month_lag_12',\n",
    "#     'date_avg_item_cnt_lag_1',\n",
    "#     'date_item_avg_item_cnt_lag_1',\n",
    "#     'date_item_avg_item_cnt_lag_2',\n",
    "#     'date_item_avg_item_cnt_lag_3',\n",
    "#     'date_item_avg_item_cnt_lag_6',\n",
    "#     'date_item_avg_item_cnt_lag_12',\n",
    "#     'date_shop_avg_item_cnt_lag_1',\n",
    "#     'date_shop_avg_item_cnt_lag_2',\n",
    "#     'date_shop_avg_item_cnt_lag_3',\n",
    "#     'date_shop_avg_item_cnt_lag_6',\n",
    "#     'date_shop_avg_item_cnt_lag_12',\n",
    "#     'date_cat_avg_item_cnt_lag_1',\n",
    "#     'date_shop_cat_avg_item_cnt_lag_1',\n",
    "# #     'date_shop_type_avg_item_cnt_lag_1', # he cmt\n",
    "# #     'date_shop_subtype_avg_item_cnt_lag_1', # he cmt\n",
    "#     'date_city_avg_item_cnt_lag_1',\n",
    "#     'date_item_city_avg_item_cnt_lag_1',\n",
    "# #     'date_type_avg_item_cnt_lag_1', # he cmt\n",
    "# #     'date_subtype_avg_item_cnt_lag_1', # he cmt\n",
    "    'delta_price_lag',\n",
    "    'month',\n",
    "    'days',\n",
    "    'item_shop_last_sale',\n",
    "    'item_last_sale',\n",
    "    'item_shop_first_sale',\n",
    "    'item_first_sale',\n",
    "]]"
   ]
  },
  {
   "cell_type": "markdown",
   "metadata": {
    "_uuid": "11eb4f2f5ada18aa8993ec55e8c63e80758fc19e"
   },
   "source": [
    "Validation strategy is 34 month for the test set, 33 month for the validation set and 13-33 months for the train."
   ]
  },
  {
   "cell_type": "code",
   "execution_count": 7,
   "metadata": {
    "_uuid": "9af76d7b80064573a453e5e10c35b76fc31c47a4",
    "collapsed": true
   },
   "outputs": [],
   "source": [
    "X_train = data[data.date_block_num < 33].drop(['item_cnt_month'], axis=1)\n",
    "Y_train = data[data.date_block_num < 33]['item_cnt_month']\n",
    "X_valid = data[data.date_block_num == 33].drop(['item_cnt_month'], axis=1)\n",
    "Y_valid = data[data.date_block_num == 33]['item_cnt_month']\n",
    "X_test = data[data.date_block_num == 34].drop(['item_cnt_month'], axis=1)"
   ]
  },
  {
   "cell_type": "code",
   "execution_count": 8,
   "metadata": {},
   "outputs": [],
   "source": [
    "X_train.drop([\"date_block_num\"], axis=1, inplace=True)\n",
    "X_valid.drop([\"date_block_num\"], axis=1, inplace=True)\n",
    "X_test.drop([\"date_block_num\"], axis=1, inplace=True)"
   ]
  },
  {
   "cell_type": "code",
   "execution_count": 9,
   "metadata": {
    "_uuid": "6ea5437e8949db6d3e54e68b7b0c18cd0befe38c",
    "collapsed": true
   },
   "outputs": [],
   "source": [
    "del data\n",
    "gc.collect();"
   ]
  },
  {
   "cell_type": "code",
   "execution_count": 10,
   "metadata": {
    "_uuid": "acef75c36501f808d45f81fc69f9708fc3283bc3",
    "collapsed": true
   },
   "outputs": [
    {
     "name": "stderr",
     "output_type": "stream",
     "text": [
      "/Users/juichang/py_36_env/lib/python3.6/site-packages/xgboost/core.py:587: FutureWarning: Series.base is deprecated and will be removed in a future version\n",
      "  if getattr(data, 'base', None) is not None and \\\n",
      "/Users/juichang/py_36_env/lib/python3.6/site-packages/xgboost/core.py:588: FutureWarning: Series.base is deprecated and will be removed in a future version\n",
      "  data.base is not None and isinstance(data, np.ndarray) \\\n"
     ]
    },
    {
     "name": "stdout",
     "output_type": "stream",
     "text": [
      "[0]\tvalidation_0-rmse:1.15906\tvalidation_1-rmse:1.1191\n",
      "Multiple eval metrics have been passed: 'validation_1-rmse' will be used for early stopping.\n",
      "\n",
      "Will train until validation_1-rmse hasn't improved in 10 rounds.\n",
      "[1]\tvalidation_0-rmse:1.10573\tvalidation_1-rmse:1.08238\n",
      "[2]\tvalidation_0-rmse:1.06584\tvalidation_1-rmse:1.05337\n",
      "[3]\tvalidation_0-rmse:1.03843\tvalidation_1-rmse:1.03052\n",
      "[4]\tvalidation_0-rmse:1.012\tvalidation_1-rmse:1.0091\n",
      "[5]\tvalidation_0-rmse:0.989207\tvalidation_1-rmse:0.993597\n",
      "[6]\tvalidation_0-rmse:0.964787\tvalidation_1-rmse:0.977584\n",
      "[7]\tvalidation_0-rmse:0.94428\tvalidation_1-rmse:0.965237\n",
      "[8]\tvalidation_0-rmse:0.92879\tvalidation_1-rmse:0.954564\n",
      "[9]\tvalidation_0-rmse:0.916179\tvalidation_1-rmse:0.946154\n",
      "[10]\tvalidation_0-rmse:0.903382\tvalidation_1-rmse:0.938717\n",
      "[11]\tvalidation_0-rmse:0.893141\tvalidation_1-rmse:0.933824\n",
      "[12]\tvalidation_0-rmse:0.885597\tvalidation_1-rmse:0.929325\n",
      "[13]\tvalidation_0-rmse:0.878841\tvalidation_1-rmse:0.925104\n",
      "[14]\tvalidation_0-rmse:0.87249\tvalidation_1-rmse:0.921901\n",
      "[15]\tvalidation_0-rmse:0.867738\tvalidation_1-rmse:0.919418\n",
      "[16]\tvalidation_0-rmse:0.863187\tvalidation_1-rmse:0.916838\n",
      "[17]\tvalidation_0-rmse:0.859474\tvalidation_1-rmse:0.915241\n",
      "[18]\tvalidation_0-rmse:0.856294\tvalidation_1-rmse:0.913849\n",
      "[19]\tvalidation_0-rmse:0.853117\tvalidation_1-rmse:0.912191\n",
      "[20]\tvalidation_0-rmse:0.850801\tvalidation_1-rmse:0.91113\n",
      "[21]\tvalidation_0-rmse:0.84887\tvalidation_1-rmse:0.910588\n",
      "[22]\tvalidation_0-rmse:0.846714\tvalidation_1-rmse:0.909908\n",
      "[23]\tvalidation_0-rmse:0.844629\tvalidation_1-rmse:0.908975\n",
      "[24]\tvalidation_0-rmse:0.842993\tvalidation_1-rmse:0.908481\n",
      "[25]\tvalidation_0-rmse:0.841342\tvalidation_1-rmse:0.909011\n",
      "[26]\tvalidation_0-rmse:0.839674\tvalidation_1-rmse:0.908132\n",
      "[27]\tvalidation_0-rmse:0.838436\tvalidation_1-rmse:0.907776\n",
      "[28]\tvalidation_0-rmse:0.837242\tvalidation_1-rmse:0.907651\n",
      "[29]\tvalidation_0-rmse:0.836494\tvalidation_1-rmse:0.90755\n",
      "[30]\tvalidation_0-rmse:0.835773\tvalidation_1-rmse:0.907381\n",
      "[31]\tvalidation_0-rmse:0.83483\tvalidation_1-rmse:0.906819\n",
      "[32]\tvalidation_0-rmse:0.83425\tvalidation_1-rmse:0.906745\n",
      "[33]\tvalidation_0-rmse:0.833159\tvalidation_1-rmse:0.906276\n",
      "[34]\tvalidation_0-rmse:0.832352\tvalidation_1-rmse:0.906312\n",
      "[35]\tvalidation_0-rmse:0.831261\tvalidation_1-rmse:0.906496\n",
      "[36]\tvalidation_0-rmse:0.830618\tvalidation_1-rmse:0.906408\n",
      "[37]\tvalidation_0-rmse:0.830006\tvalidation_1-rmse:0.906089\n",
      "[38]\tvalidation_0-rmse:0.82947\tvalidation_1-rmse:0.906045\n",
      "[39]\tvalidation_0-rmse:0.828845\tvalidation_1-rmse:0.906013\n",
      "[40]\tvalidation_0-rmse:0.828526\tvalidation_1-rmse:0.905868\n",
      "[41]\tvalidation_0-rmse:0.82812\tvalidation_1-rmse:0.905619\n",
      "[42]\tvalidation_0-rmse:0.827659\tvalidation_1-rmse:0.905433\n",
      "[43]\tvalidation_0-rmse:0.827216\tvalidation_1-rmse:0.905372\n",
      "[44]\tvalidation_0-rmse:0.826622\tvalidation_1-rmse:0.904985\n",
      "[45]\tvalidation_0-rmse:0.826122\tvalidation_1-rmse:0.905124\n",
      "[46]\tvalidation_0-rmse:0.825593\tvalidation_1-rmse:0.905154\n",
      "[47]\tvalidation_0-rmse:0.825273\tvalidation_1-rmse:0.904979\n",
      "[48]\tvalidation_0-rmse:0.823941\tvalidation_1-rmse:0.904228\n",
      "[49]\tvalidation_0-rmse:0.823628\tvalidation_1-rmse:0.904159\n",
      "[50]\tvalidation_0-rmse:0.823156\tvalidation_1-rmse:0.904122\n",
      "[51]\tvalidation_0-rmse:0.822716\tvalidation_1-rmse:0.903962\n",
      "[52]\tvalidation_0-rmse:0.822343\tvalidation_1-rmse:0.903957\n",
      "[53]\tvalidation_0-rmse:0.821482\tvalidation_1-rmse:0.903225\n",
      "[54]\tvalidation_0-rmse:0.82118\tvalidation_1-rmse:0.90323\n",
      "[55]\tvalidation_0-rmse:0.820325\tvalidation_1-rmse:0.902035\n",
      "[56]\tvalidation_0-rmse:0.819878\tvalidation_1-rmse:0.901911\n",
      "[57]\tvalidation_0-rmse:0.819563\tvalidation_1-rmse:0.902033\n",
      "[58]\tvalidation_0-rmse:0.819142\tvalidation_1-rmse:0.901753\n",
      "[59]\tvalidation_0-rmse:0.818851\tvalidation_1-rmse:0.901507\n",
      "[60]\tvalidation_0-rmse:0.818685\tvalidation_1-rmse:0.901413\n",
      "[61]\tvalidation_0-rmse:0.818405\tvalidation_1-rmse:0.901633\n",
      "[62]\tvalidation_0-rmse:0.818129\tvalidation_1-rmse:0.901359\n",
      "[63]\tvalidation_0-rmse:0.817924\tvalidation_1-rmse:0.901436\n",
      "[64]\tvalidation_0-rmse:0.817638\tvalidation_1-rmse:0.901373\n",
      "[65]\tvalidation_0-rmse:0.817298\tvalidation_1-rmse:0.901399\n",
      "[66]\tvalidation_0-rmse:0.817192\tvalidation_1-rmse:0.901328\n",
      "[67]\tvalidation_0-rmse:0.816975\tvalidation_1-rmse:0.901227\n",
      "[68]\tvalidation_0-rmse:0.816668\tvalidation_1-rmse:0.901056\n",
      "[69]\tvalidation_0-rmse:0.816161\tvalidation_1-rmse:0.900811\n",
      "[70]\tvalidation_0-rmse:0.815885\tvalidation_1-rmse:0.90074\n",
      "[71]\tvalidation_0-rmse:0.815648\tvalidation_1-rmse:0.900774\n",
      "[72]\tvalidation_0-rmse:0.815389\tvalidation_1-rmse:0.900754\n",
      "[73]\tvalidation_0-rmse:0.81522\tvalidation_1-rmse:0.90071\n",
      "[74]\tvalidation_0-rmse:0.815006\tvalidation_1-rmse:0.900656\n",
      "[75]\tvalidation_0-rmse:0.814809\tvalidation_1-rmse:0.900646\n",
      "[76]\tvalidation_0-rmse:0.814706\tvalidation_1-rmse:0.900523\n",
      "[77]\tvalidation_0-rmse:0.814516\tvalidation_1-rmse:0.900594\n",
      "[78]\tvalidation_0-rmse:0.814119\tvalidation_1-rmse:0.900641\n",
      "[79]\tvalidation_0-rmse:0.813944\tvalidation_1-rmse:0.900637\n",
      "[80]\tvalidation_0-rmse:0.813639\tvalidation_1-rmse:0.900527\n",
      "[81]\tvalidation_0-rmse:0.81349\tvalidation_1-rmse:0.900381\n",
      "[82]\tvalidation_0-rmse:0.813153\tvalidation_1-rmse:0.900216\n",
      "[83]\tvalidation_0-rmse:0.812938\tvalidation_1-rmse:0.900317\n",
      "[84]\tvalidation_0-rmse:0.812745\tvalidation_1-rmse:0.900363\n",
      "[85]\tvalidation_0-rmse:0.812598\tvalidation_1-rmse:0.900378\n",
      "[86]\tvalidation_0-rmse:0.812454\tvalidation_1-rmse:0.900399\n",
      "[87]\tvalidation_0-rmse:0.81198\tvalidation_1-rmse:0.900266\n",
      "[88]\tvalidation_0-rmse:0.811876\tvalidation_1-rmse:0.900224\n",
      "[89]\tvalidation_0-rmse:0.811716\tvalidation_1-rmse:0.900112\n",
      "[90]\tvalidation_0-rmse:0.811534\tvalidation_1-rmse:0.900084\n",
      "[91]\tvalidation_0-rmse:0.810962\tvalidation_1-rmse:0.899936\n",
      "[92]\tvalidation_0-rmse:0.810619\tvalidation_1-rmse:0.899863\n",
      "[93]\tvalidation_0-rmse:0.81031\tvalidation_1-rmse:0.899706\n",
      "[94]\tvalidation_0-rmse:0.809902\tvalidation_1-rmse:0.899751\n",
      "[95]\tvalidation_0-rmse:0.809752\tvalidation_1-rmse:0.899825\n",
      "[96]\tvalidation_0-rmse:0.809432\tvalidation_1-rmse:0.899412\n",
      "[97]\tvalidation_0-rmse:0.809371\tvalidation_1-rmse:0.899355\n",
      "[98]\tvalidation_0-rmse:0.809261\tvalidation_1-rmse:0.899304\n",
      "[99]\tvalidation_0-rmse:0.808442\tvalidation_1-rmse:0.898622\n",
      "[100]\tvalidation_0-rmse:0.80825\tvalidation_1-rmse:0.898655\n",
      "[101]\tvalidation_0-rmse:0.807926\tvalidation_1-rmse:0.898479\n",
      "[102]\tvalidation_0-rmse:0.807631\tvalidation_1-rmse:0.898376\n",
      "[103]\tvalidation_0-rmse:0.807252\tvalidation_1-rmse:0.898891\n",
      "[104]\tvalidation_0-rmse:0.807117\tvalidation_1-rmse:0.898869\n",
      "[105]\tvalidation_0-rmse:0.806769\tvalidation_1-rmse:0.898967\n",
      "[106]\tvalidation_0-rmse:0.806545\tvalidation_1-rmse:0.898922\n",
      "[107]\tvalidation_0-rmse:0.806358\tvalidation_1-rmse:0.898863\n",
      "[108]\tvalidation_0-rmse:0.806125\tvalidation_1-rmse:0.898592\n",
      "[109]\tvalidation_0-rmse:0.805915\tvalidation_1-rmse:0.899022\n",
      "[110]\tvalidation_0-rmse:0.805294\tvalidation_1-rmse:0.898515\n",
      "[111]\tvalidation_0-rmse:0.804981\tvalidation_1-rmse:0.898735\n",
      "[112]\tvalidation_0-rmse:0.804866\tvalidation_1-rmse:0.898734\n",
      "Stopping. Best iteration:\n",
      "[102]\tvalidation_0-rmse:0.807631\tvalidation_1-rmse:0.898376\n",
      "\n"
     ]
    },
    {
     "data": {
      "text/plain": [
       "2171.0383670330048"
      ]
     },
     "execution_count": 10,
     "metadata": {},
     "output_type": "execute_result"
    }
   ],
   "source": [
    "ts = time.time()\n",
    "\n",
    "model = XGBRegressor(\n",
    "    max_depth=8,\n",
    "    n_estimators=1000,\n",
    "    nthread=4,\n",
    "    min_child_weight=300, \n",
    "    colsample_bytree=0.8, \n",
    "    subsample=0.8, \n",
    "    eta=0.3,    \n",
    "    seed=42)\n",
    "\n",
    "model.fit(\n",
    "    X_train, \n",
    "    Y_train, \n",
    "    eval_metric=\"rmse\", \n",
    "    eval_set=[(X_train, Y_train), (X_valid, Y_valid)], \n",
    "    verbose=True, \n",
    "    early_stopping_rounds = 10)\n",
    "\n",
    "time.time() - ts"
   ]
  },
  {
   "cell_type": "code",
   "execution_count": 11,
   "metadata": {
    "_uuid": "8ff5a80a22d046c5ca1cb27e938c757b607551d2",
    "collapsed": true
   },
   "outputs": [],
   "source": [
    "Y_pred = model.predict(X_valid).clip(0, 20)\n",
    "Y_test = model.predict(X_test).clip(0, 20)\n",
    "\n",
    "submission = pd.DataFrame({\n",
    "    \"ID\": test.index, \n",
    "    \"item_cnt_month\": Y_test\n",
    "})\n",
    "submission.to_csv('xgb_submissionrmdate_bla_cnt.csv', index=False)\n",
    "\n",
    "# save predictions for an ensemble\n",
    "pickle.dump(Y_pred, open('xgb_trainrmdate_bla_cnt.pickle', 'wb'))\n",
    "pickle.dump(Y_test, open('xgb_testrmdate_bla_cnt.pickle', 'wb'))"
   ]
  },
  {
   "cell_type": "code",
   "execution_count": 75,
   "metadata": {
    "_uuid": "c8adc7c93323eb77baeceb2e8db17390b5c4deb3",
    "collapsed": true
   },
   "outputs": [
    {
     "data": {
      "text/plain": [
       "<matplotlib.axes._subplots.AxesSubplot at 0x1229680f0>"
      ]
     },
     "execution_count": 75,
     "metadata": {},
     "output_type": "execute_result"
    },
    {
     "data": {
      "image/png": "[encoded data removed]",
      "text/plain": [
       "<Figure size 720x1008 with 1 Axes>"
      ]
     },
     "metadata": {
      "needs_background": "light"
     },
     "output_type": "display_data"
    }
   ],
   "source": [
    "plot_features(model, (10,14))"
   ]
  },
  {
   "cell_type": "markdown",
   "metadata": {},
   "source": [
    "#### 2.3 Xgboost (feature selection with correlation)  "
   ]
  },
  {
   "cell_type": "code",
   "execution_count": 5,
   "metadata": {
    "_uuid": "a54364495b1818e9f069efa0c53500bf9e21d5f9",
    "collapsed": true
   },
   "outputs": [],
   "source": [
    "data = pd.read_pickle('data.pkl')"
   ]
  },
  {
   "cell_type": "code",
   "execution_count": 43,
   "metadata": {},
   "outputs": [],
   "source": [
    "ts = time.time()\n",
    "y_corr = data.corr()['item_cnt_month']\n",
    "time.time() - ts"
   ]
  },
  {
   "cell_type": "code",
   "execution_count": 56,
   "metadata": {},
   "outputs": [
    {
     "data": {
      "image/png": "[encoded data removed]",
      "text/plain": [
       "<Figure size 864x216 with 1 Axes>"
      ]
     },
     "metadata": {
      "needs_background": "light"
     },
     "output_type": "display_data"
    }
   ],
   "source": [
    "if \"item_cnt_month\" in y_corr.index:\n",
    "    y_corr.drop(\"item_cnt_month\", inplace=True)\n",
    "    \n",
    "plt.figure(figsize=(12,3))\n",
    "plt.bar(y_corr.index, y_corr)\n",
    "plt.xticks(rotation=90)\n",
    "plt.show()"
   ]
  },
  {
   "cell_type": "markdown",
   "metadata": {},
   "source": [
    "根據上圖篩選掉一些feature:"
   ]
  },
  {
   "cell_type": "code",
   "execution_count": 6,
   "metadata": {
    "_uuid": "bfc928a916bb8b285b2fe90fb1a311cf2fbbf2e3",
    "collapsed": true
   },
   "outputs": [],
   "source": [
    "data = data[[\n",
    "    'date_block_num',\n",
    "    'shop_id',\n",
    "    'item_id',\n",
    "    'item_cnt_month',\n",
    "#     'city_code',\n",
    "    'item_category_id',\n",
    "    'type_code',\n",
    "#     'subtype_code',\n",
    "    'item_cnt_month_lag_1',\n",
    "    'item_cnt_month_lag_2',\n",
    "    'item_cnt_month_lag_3',\n",
    "    'item_cnt_month_lag_6',\n",
    "    'item_cnt_month_lag_12',\n",
    "#     'date_avg_item_cnt_lag_1',\n",
    "    'date_item_avg_item_cnt_lag_1',\n",
    "    'date_item_avg_item_cnt_lag_2',\n",
    "    'date_item_avg_item_cnt_lag_3',\n",
    "    'date_item_avg_item_cnt_lag_6',\n",
    "    'date_item_avg_item_cnt_lag_12',\n",
    "    'date_shop_avg_item_cnt_lag_1',\n",
    "    'date_shop_avg_item_cnt_lag_2',\n",
    "    'date_shop_avg_item_cnt_lag_3',\n",
    "#     'date_shop_avg_item_cnt_lag_6',\n",
    "#     'date_shop_avg_item_cnt_lag_12',\n",
    "    'date_cat_avg_item_cnt_lag_1',\n",
    "    'date_shop_cat_avg_item_cnt_lag_1',\n",
    "#     'date_shop_type_avg_item_cnt_lag_1', # he cmt\n",
    "#     'date_shop_subtype_avg_item_cnt_lag_1', # he cmt\n",
    "    'date_city_avg_item_cnt_lag_1',\n",
    "    'date_item_city_avg_item_cnt_lag_1',\n",
    "#     'date_type_avg_item_cnt_lag_1', # he cmt\n",
    "#     'date_subtype_avg_item_cnt_lag_1', # he cmt\n",
    "#     'delta_price_lag',\n",
    "    'month',\n",
    "#     'days',\n",
    "    'item_shop_last_sale',\n",
    "#     'item_last_sale',\n",
    "    'item_shop_first_sale',\n",
    "    'item_first_sale',\n",
    "]]"
   ]
  },
  {
   "cell_type": "markdown",
   "metadata": {
    "_uuid": "11eb4f2f5ada18aa8993ec55e8c63e80758fc19e"
   },
   "source": [
    "Validation strategy is 34 month for the test set, 33 month for the validation set and 13-33 months for the train."
   ]
  },
  {
   "cell_type": "code",
   "execution_count": 7,
   "metadata": {
    "_uuid": "9af76d7b80064573a453e5e10c35b76fc31c47a4",
    "collapsed": true
   },
   "outputs": [],
   "source": [
    "X_train = data[data.date_block_num < 33].drop(['item_cnt_month'], axis=1)\n",
    "Y_train = data[data.date_block_num < 33]['item_cnt_month']\n",
    "X_valid = data[data.date_block_num == 33].drop(['item_cnt_month'], axis=1)\n",
    "Y_valid = data[data.date_block_num == 33]['item_cnt_month']\n",
    "X_test = data[data.date_block_num == 34].drop(['item_cnt_month'], axis=1)"
   ]
  },
  {
   "cell_type": "code",
   "execution_count": 8,
   "metadata": {},
   "outputs": [],
   "source": [
    "X_train.drop([\"date_block_num\"], axis=1, inplace=True)\n",
    "X_valid.drop([\"date_block_num\"], axis=1, inplace=True)\n",
    "X_test.drop([\"date_block_num\"], axis=1, inplace=True)"
   ]
  },
  {
   "cell_type": "code",
   "execution_count": 9,
   "metadata": {
    "_uuid": "6ea5437e8949db6d3e54e68b7b0c18cd0befe38c",
    "collapsed": true
   },
   "outputs": [],
   "source": [
    "del data\n",
    "gc.collect();"
   ]
  },
  {
   "cell_type": "code",
   "execution_count": 10,
   "metadata": {
    "_uuid": "acef75c36501f808d45f81fc69f9708fc3283bc3",
    "collapsed": true
   },
   "outputs": [
    {
     "name": "stderr",
     "output_type": "stream",
     "text": [
      "/Users/juichang/py_36_env/lib/python3.6/site-packages/xgboost/core.py:587: FutureWarning: Series.base is deprecated and will be removed in a future version\n",
      "  if getattr(data, 'base', None) is not None and \\\n",
      "/Users/juichang/py_36_env/lib/python3.6/site-packages/xgboost/core.py:588: FutureWarning: Series.base is deprecated and will be removed in a future version\n",
      "  data.base is not None and isinstance(data, np.ndarray) \\\n"
     ]
    },
    {
     "name": "stdout",
     "output_type": "stream",
     "text": [
      "[0]\tvalidation_0-rmse:1.15906\tvalidation_1-rmse:1.1191\n",
      "Multiple eval metrics have been passed: 'validation_1-rmse' will be used for early stopping.\n",
      "\n",
      "Will train until validation_1-rmse hasn't improved in 10 rounds.\n",
      "[1]\tvalidation_0-rmse:1.10573\tvalidation_1-rmse:1.08238\n",
      "[2]\tvalidation_0-rmse:1.06584\tvalidation_1-rmse:1.05337\n",
      "[3]\tvalidation_0-rmse:1.03843\tvalidation_1-rmse:1.03052\n",
      "[4]\tvalidation_0-rmse:1.012\tvalidation_1-rmse:1.0091\n",
      "[5]\tvalidation_0-rmse:0.989207\tvalidation_1-rmse:0.993597\n",
      "[6]\tvalidation_0-rmse:0.964787\tvalidation_1-rmse:0.977584\n",
      "[7]\tvalidation_0-rmse:0.94428\tvalidation_1-rmse:0.965237\n",
      "[8]\tvalidation_0-rmse:0.92879\tvalidation_1-rmse:0.954564\n",
      "[9]\tvalidation_0-rmse:0.916179\tvalidation_1-rmse:0.946154\n",
      "[10]\tvalidation_0-rmse:0.903382\tvalidation_1-rmse:0.938717\n",
      "[11]\tvalidation_0-rmse:0.893141\tvalidation_1-rmse:0.933824\n",
      "[12]\tvalidation_0-rmse:0.885597\tvalidation_1-rmse:0.929325\n",
      "[13]\tvalidation_0-rmse:0.878841\tvalidation_1-rmse:0.925104\n",
      "[14]\tvalidation_0-rmse:0.87249\tvalidation_1-rmse:0.921901\n",
      "[15]\tvalidation_0-rmse:0.867738\tvalidation_1-rmse:0.919418\n",
      "[16]\tvalidation_0-rmse:0.863187\tvalidation_1-rmse:0.916838\n",
      "[17]\tvalidation_0-rmse:0.859474\tvalidation_1-rmse:0.915241\n",
      "[18]\tvalidation_0-rmse:0.856294\tvalidation_1-rmse:0.913849\n",
      "[19]\tvalidation_0-rmse:0.853117\tvalidation_1-rmse:0.912191\n",
      "[20]\tvalidation_0-rmse:0.850801\tvalidation_1-rmse:0.91113\n",
      "[21]\tvalidation_0-rmse:0.84887\tvalidation_1-rmse:0.910588\n",
      "[22]\tvalidation_0-rmse:0.846714\tvalidation_1-rmse:0.909908\n",
      "[23]\tvalidation_0-rmse:0.844629\tvalidation_1-rmse:0.908975\n",
      "[24]\tvalidation_0-rmse:0.842993\tvalidation_1-rmse:0.908481\n",
      "[25]\tvalidation_0-rmse:0.841342\tvalidation_1-rmse:0.909011\n",
      "[26]\tvalidation_0-rmse:0.839674\tvalidation_1-rmse:0.908132\n",
      "[27]\tvalidation_0-rmse:0.838436\tvalidation_1-rmse:0.907776\n",
      "[28]\tvalidation_0-rmse:0.837242\tvalidation_1-rmse:0.907651\n",
      "[29]\tvalidation_0-rmse:0.836494\tvalidation_1-rmse:0.90755\n",
      "[30]\tvalidation_0-rmse:0.835773\tvalidation_1-rmse:0.907381\n",
      "[31]\tvalidation_0-rmse:0.83483\tvalidation_1-rmse:0.906819\n",
      "[32]\tvalidation_0-rmse:0.83425\tvalidation_1-rmse:0.906745\n",
      "[33]\tvalidation_0-rmse:0.833159\tvalidation_1-rmse:0.906276\n",
      "[34]\tvalidation_0-rmse:0.832352\tvalidation_1-rmse:0.906312\n",
      "[35]\tvalidation_0-rmse:0.831261\tvalidation_1-rmse:0.906496\n",
      "[36]\tvalidation_0-rmse:0.830618\tvalidation_1-rmse:0.906408\n",
      "[37]\tvalidation_0-rmse:0.830006\tvalidation_1-rmse:0.906089\n",
      "[38]\tvalidation_0-rmse:0.82947\tvalidation_1-rmse:0.906045\n",
      "[39]\tvalidation_0-rmse:0.828845\tvalidation_1-rmse:0.906013\n",
      "[40]\tvalidation_0-rmse:0.828526\tvalidation_1-rmse:0.905868\n",
      "[41]\tvalidation_0-rmse:0.82812\tvalidation_1-rmse:0.905619\n",
      "[42]\tvalidation_0-rmse:0.827659\tvalidation_1-rmse:0.905433\n",
      "[43]\tvalidation_0-rmse:0.827216\tvalidation_1-rmse:0.905372\n",
      "[44]\tvalidation_0-rmse:0.826622\tvalidation_1-rmse:0.904985\n",
      "[45]\tvalidation_0-rmse:0.826122\tvalidation_1-rmse:0.905124\n",
      "[46]\tvalidation_0-rmse:0.825593\tvalidation_1-rmse:0.905154\n",
      "[47]\tvalidation_0-rmse:0.825273\tvalidation_1-rmse:0.904979\n",
      "[48]\tvalidation_0-rmse:0.823941\tvalidation_1-rmse:0.904228\n",
      "[49]\tvalidation_0-rmse:0.823628\tvalidation_1-rmse:0.904159\n",
      "[50]\tvalidation_0-rmse:0.823156\tvalidation_1-rmse:0.904122\n",
      "[51]\tvalidation_0-rmse:0.822716\tvalidation_1-rmse:0.903962\n",
      "[52]\tvalidation_0-rmse:0.822343\tvalidation_1-rmse:0.903957\n",
      "[53]\tvalidation_0-rmse:0.821482\tvalidation_1-rmse:0.903225\n",
      "[54]\tvalidation_0-rmse:0.82118\tvalidation_1-rmse:0.90323\n",
      "[55]\tvalidation_0-rmse:0.820325\tvalidation_1-rmse:0.902035\n",
      "[56]\tvalidation_0-rmse:0.819878\tvalidation_1-rmse:0.901911\n",
      "[57]\tvalidation_0-rmse:0.819563\tvalidation_1-rmse:0.902033\n",
      "[58]\tvalidation_0-rmse:0.819142\tvalidation_1-rmse:0.901753\n",
      "[59]\tvalidation_0-rmse:0.818851\tvalidation_1-rmse:0.901507\n",
      "[60]\tvalidation_0-rmse:0.818685\tvalidation_1-rmse:0.901413\n",
      "[61]\tvalidation_0-rmse:0.818405\tvalidation_1-rmse:0.901633\n",
      "[62]\tvalidation_0-rmse:0.818129\tvalidation_1-rmse:0.901359\n",
      "[63]\tvalidation_0-rmse:0.817924\tvalidation_1-rmse:0.901436\n",
      "[64]\tvalidation_0-rmse:0.817638\tvalidation_1-rmse:0.901373\n",
      "[65]\tvalidation_0-rmse:0.817298\tvalidation_1-rmse:0.901399\n",
      "[66]\tvalidation_0-rmse:0.817192\tvalidation_1-rmse:0.901328\n",
      "[67]\tvalidation_0-rmse:0.816975\tvalidation_1-rmse:0.901227\n",
      "[68]\tvalidation_0-rmse:0.816668\tvalidation_1-rmse:0.901056\n",
      "[69]\tvalidation_0-rmse:0.816161\tvalidation_1-rmse:0.900811\n",
      "[70]\tvalidation_0-rmse:0.815885\tvalidation_1-rmse:0.90074\n",
      "[71]\tvalidation_0-rmse:0.815648\tvalidation_1-rmse:0.900774\n",
      "[72]\tvalidation_0-rmse:0.815389\tvalidation_1-rmse:0.900754\n",
      "[73]\tvalidation_0-rmse:0.81522\tvalidation_1-rmse:0.90071\n",
      "[74]\tvalidation_0-rmse:0.815006\tvalidation_1-rmse:0.900656\n",
      "[75]\tvalidation_0-rmse:0.814809\tvalidation_1-rmse:0.900646\n",
      "[76]\tvalidation_0-rmse:0.814706\tvalidation_1-rmse:0.900523\n",
      "[77]\tvalidation_0-rmse:0.814516\tvalidation_1-rmse:0.900594\n",
      "[78]\tvalidation_0-rmse:0.814119\tvalidation_1-rmse:0.900641\n",
      "[79]\tvalidation_0-rmse:0.813944\tvalidation_1-rmse:0.900637\n",
      "[80]\tvalidation_0-rmse:0.813639\tvalidation_1-rmse:0.900527\n",
      "[81]\tvalidation_0-rmse:0.81349\tvalidation_1-rmse:0.900381\n",
      "[82]\tvalidation_0-rmse:0.813153\tvalidation_1-rmse:0.900216\n",
      "[83]\tvalidation_0-rmse:0.812938\tvalidation_1-rmse:0.900317\n",
      "[84]\tvalidation_0-rmse:0.812745\tvalidation_1-rmse:0.900363\n",
      "[85]\tvalidation_0-rmse:0.812598\tvalidation_1-rmse:0.900378\n",
      "[86]\tvalidation_0-rmse:0.812454\tvalidation_1-rmse:0.900399\n",
      "[87]\tvalidation_0-rmse:0.81198\tvalidation_1-rmse:0.900266\n",
      "[88]\tvalidation_0-rmse:0.811876\tvalidation_1-rmse:0.900224\n",
      "[89]\tvalidation_0-rmse:0.811716\tvalidation_1-rmse:0.900112\n",
      "[90]\tvalidation_0-rmse:0.811534\tvalidation_1-rmse:0.900084\n",
      "[91]\tvalidation_0-rmse:0.810962\tvalidation_1-rmse:0.899936\n",
      "[92]\tvalidation_0-rmse:0.810619\tvalidation_1-rmse:0.899863\n",
      "[93]\tvalidation_0-rmse:0.81031\tvalidation_1-rmse:0.899706\n",
      "[94]\tvalidation_0-rmse:0.809902\tvalidation_1-rmse:0.899751\n",
      "[95]\tvalidation_0-rmse:0.809752\tvalidation_1-rmse:0.899825\n",
      "[96]\tvalidation_0-rmse:0.809432\tvalidation_1-rmse:0.899412\n",
      "[97]\tvalidation_0-rmse:0.809371\tvalidation_1-rmse:0.899355\n",
      "[98]\tvalidation_0-rmse:0.809261\tvalidation_1-rmse:0.899304\n",
      "[99]\tvalidation_0-rmse:0.808442\tvalidation_1-rmse:0.898622\n",
      "[100]\tvalidation_0-rmse:0.80825\tvalidation_1-rmse:0.898655\n",
      "[101]\tvalidation_0-rmse:0.807926\tvalidation_1-rmse:0.898479\n",
      "[102]\tvalidation_0-rmse:0.807631\tvalidation_1-rmse:0.898376\n",
      "[103]\tvalidation_0-rmse:0.807252\tvalidation_1-rmse:0.898891\n",
      "[104]\tvalidation_0-rmse:0.807117\tvalidation_1-rmse:0.898869\n",
      "[105]\tvalidation_0-rmse:0.806769\tvalidation_1-rmse:0.898967\n",
      "[106]\tvalidation_0-rmse:0.806545\tvalidation_1-rmse:0.898922\n",
      "[107]\tvalidation_0-rmse:0.806358\tvalidation_1-rmse:0.898863\n",
      "[108]\tvalidation_0-rmse:0.806125\tvalidation_1-rmse:0.898592\n",
      "[109]\tvalidation_0-rmse:0.805915\tvalidation_1-rmse:0.899022\n",
      "[110]\tvalidation_0-rmse:0.805294\tvalidation_1-rmse:0.898515\n",
      "[111]\tvalidation_0-rmse:0.804981\tvalidation_1-rmse:0.898735\n",
      "[112]\tvalidation_0-rmse:0.804866\tvalidation_1-rmse:0.898734\n",
      "Stopping. Best iteration:\n",
      "[102]\tvalidation_0-rmse:0.807631\tvalidation_1-rmse:0.898376\n",
      "\n"
     ]
    },
    {
     "data": {
      "text/plain": [
       "2171.0383670330048"
      ]
     },
     "execution_count": 10,
     "metadata": {},
     "output_type": "execute_result"
    }
   ],
   "source": [
    "ts = time.time()\n",
    "\n",
    "model = XGBRegressor(\n",
    "    max_depth=8,\n",
    "    n_estimators=1000,\n",
    "    nthread=4,\n",
    "    min_child_weight=300, \n",
    "    colsample_bytree=0.8, \n",
    "    subsample=0.8, \n",
    "    eta=0.3,    \n",
    "    seed=41)\n",
    "\n",
    "model.fit(\n",
    "    X_train, \n",
    "    Y_train, \n",
    "    eval_metric=\"rmse\", \n",
    "    eval_set=[(X_train, Y_train), (X_valid, Y_valid)], \n",
    "    verbose=True, \n",
    "    early_stopping_rounds = 10)\n",
    "\n",
    "time.time() - ts"
   ]
  },
  {
   "cell_type": "code",
   "execution_count": 11,
   "metadata": {
    "_uuid": "8ff5a80a22d046c5ca1cb27e938c757b607551d2",
    "collapsed": true
   },
   "outputs": [],
   "source": [
    "Y_pred = model.predict(X_valid).clip(0, 20)\n",
    "Y_test = model.predict(X_test).clip(0, 20)\n",
    "\n",
    "submission = pd.DataFrame({\n",
    "    \"ID\": test.index, \n",
    "    \"item_cnt_month\": Y_test\n",
    "})\n",
    "submission.to_csv('./output/xgb_sub_corr41.csv', index=False)\n",
    "\n",
    "# save predictions for an ensemble\n",
    "pickle.dump(Y_pred, open('./output/xgb_train_corr41.pickle', 'wb'))\n",
    "pickle.dump(Y_test, open('./output/xgb_test_corr41.pickle', 'wb'))"
   ]
  },
  {
   "cell_type": "code",
   "execution_count": 75,
   "metadata": {
    "_uuid": "c8adc7c93323eb77baeceb2e8db17390b5c4deb3",
    "collapsed": true
   },
   "outputs": [
    {
     "data": {
      "text/plain": [
       "<matplotlib.axes._subplots.AxesSubplot at 0x1229680f0>"
      ]
     },
     "execution_count": 75,
     "metadata": {},
     "output_type": "execute_result"
    },
    {
     "data": {
      "image/png": "[encoded data removed]",
      "text/plain": [
       "<Figure size 720x1008 with 1 Axes>"
      ]
     },
     "metadata": {
      "needs_background": "light"
     },
     "output_type": "display_data"
    }
   ],
   "source": [
    "plot_features(model, (10,14))"
   ]
  },
  {
   "cell_type": "markdown",
   "metadata": {},
   "source": [
    "#### 2.4 Ensembling (refer: ensemble.ipynb)\n",
    "由於LGBM的效果明顯差於另兩個Xgboost做出的結果，因此即便兩prediction都是出自同一種model，還是決定ensemble看看，嘗試「同種model，不同feature」的ensemble能做出多少進步。最後得出我最好的public score:0.90104"
   ]
  },
  {
   "cell_type": "markdown",
   "metadata": {},
   "source": [
    "#### 2.5 其他嘗試 (refer: lag_max3_withcorr41.ipynb & ensemble.ipynb)\n",
    "##### 2.5.1 Lag Max 3\n",
    "由於原kernel取lag最大取到12個月，這樣必須捨棄前12月而損失了很多training data, 於是我嘗試只取到前3個月。然而public score只有0.93303。  \n",
    "##### 2.5.2 Ensemble models with diffenent training seed only\n",
    "因為我發現同為XGBRegreesor，只變seed值竟也會造成不少的public score的差距，因此我有測試「只改變seed值做了三次XGB，將它們做ensemble」。然而效果不好（score值大概也是個別score值的加起來平均），可見在只改變seed的情況下做訓練，model的prediction還是會有類似的傾向（也就是其共變異數應該較接近1）"
   ]
  },
  {
   "cell_type": "markdown",
   "metadata": {},
   "source": [
    "### 心得\n",
    "目前體會到**time series prediction**的一大難處是**validation不易反映test set**，因為時間本身就是一項重要的變因。以本project為例：我們要預測的是2015年11月的資料，我曾考慮是否採用2013與2014年11月的資料，但後來仍覺得2015/10的資料應該還是與2015/11更類似，因為相同月份的相似性應不足以彌補1年的時間帶來的變化。即使kernel作者合理的選擇了validation，但在做這次project的過程中仍可明顯體會到validation loss與不能有效反應public score（如val loss = 0.89X的public score不比0.95X者）"
   ]
  },
  {
   "cell_type": "code",
   "execution_count": null,
   "metadata": {},
   "outputs": [],
   "source": []
  }
 ],
 "metadata": {
  "kernelspec": {
   "display_name": "py_36_env",
   "language": "python",
   "name": "py_36_env"
  },
  "language_info": {
   "codemirror_mode": {
    "name": "ipython",
    "version": 3
   },
   "file_extension": ".py",
   "mimetype": "text/x-python",
   "name": "python",
   "nbconvert_exporter": "python",
   "pygments_lexer": "ipython3",
   "version": "3.6.4"
  }
 },
 "nbformat": 4,
 "nbformat_minor": 2
}
